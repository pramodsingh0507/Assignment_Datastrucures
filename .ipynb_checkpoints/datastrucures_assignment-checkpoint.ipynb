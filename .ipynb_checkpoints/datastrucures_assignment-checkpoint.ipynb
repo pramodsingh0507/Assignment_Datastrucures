{
 "cells": [
  {
   "cell_type": "code",
   "execution_count": 1,
   "id": "20138d2e-810e-4ebe-9d3c-fad5f5a91f71",
   "metadata": {},
   "outputs": [],
   "source": [
    "# Ques:1- Discuss string slicing and provide examples.\n"
   ]
  },
  {
   "cell_type": "code",
   "execution_count": 2,
   "id": "c9cf1fa0-d5ab-4802-bda4-5ce93a24a2ae",
   "metadata": {},
   "outputs": [],
   "source": [
    "# Ans-1 "
   ]
  },
  {
   "cell_type": "code",
   "execution_count": 3,
   "id": "40a70cb4-d8a5-4b22-a9fa-df7cc996ea8a",
   "metadata": {},
   "outputs": [
    {
     "data": {
      "text/plain": [
       "'I am'"
      ]
     },
     "execution_count": 3,
     "metadata": {},
     "output_type": "execute_result"
    }
   ],
   "source": [
    "str1= \"I am a good students\"\n",
    "str1[0:4] #  the fourth index are exclusive (not added) gives n-1 values."
   ]
  },
  {
   "cell_type": "code",
   "execution_count": 4,
   "id": "ddde3739-263a-49e3-8a95-c1e5a699b42c",
   "metadata": {},
   "outputs": [
    {
     "data": {
      "text/plain": [
       "'I am a'"
      ]
     },
     "execution_count": 4,
     "metadata": {},
     "output_type": "execute_result"
    }
   ],
   "source": [
    "str1[0:6]"
   ]
  },
  {
   "cell_type": "code",
   "execution_count": 6,
   "id": "8a1ebc5e-26ca-40db-9265-a2b0510fa091",
   "metadata": {},
   "outputs": [
    {
     "data": {
      "text/plain": [
       "'I am a good students'"
      ]
     },
     "execution_count": 6,
     "metadata": {},
     "output_type": "execute_result"
    }
   ],
   "source": [
    "str1[0:] # stop are not mentioned so gives all values(slicing with only start)"
   ]
  },
  {
   "cell_type": "code",
   "execution_count": null,
   "id": "cbefa497-6a8f-4580-ad30-76f8d62cace9",
   "metadata": {},
   "outputs": [],
   "source": []
  },
  {
   "cell_type": "code",
   "execution_count": 7,
   "id": "301cf6f5-718d-4234-873f-ed28add51d80",
   "metadata": {},
   "outputs": [
    {
     "data": {
      "text/plain": [
       "' My n'"
      ]
     },
     "execution_count": 7,
     "metadata": {},
     "output_type": "execute_result"
    }
   ],
   "source": [
    "str2= \" My name is Pramod Singh\"\n",
    "str2[:5] # slicing with only end (index 5th is exclusive)"
   ]
  },
  {
   "cell_type": "code",
   "execution_count": 9,
   "id": "a4f9bf4a-07ef-4038-a714-03bc4a5db12a",
   "metadata": {},
   "outputs": [
    {
     "data": {
      "text/plain": [
       "'h'"
      ]
     },
     "execution_count": 9,
     "metadata": {},
     "output_type": "execute_result"
    }
   ],
   "source": [
    "str2[-1] # negative slicing"
   ]
  },
  {
   "cell_type": "code",
   "execution_count": 14,
   "id": "3470224d-7a67-486d-adf1-ce39c8fff5e2",
   "metadata": {},
   "outputs": [],
   "source": [
    "string=\"Hello World\""
   ]
  },
  {
   "cell_type": "code",
   "execution_count": 15,
   "id": "e332a263-d1c7-4f6a-bdd8-d735bd2505ba",
   "metadata": {},
   "outputs": [
    {
     "data": {
      "text/plain": [
       "'Hello World'"
      ]
     },
     "execution_count": 15,
     "metadata": {},
     "output_type": "execute_result"
    }
   ],
   "source": [
    "string[0:]"
   ]
  },
  {
   "cell_type": "code",
   "execution_count": 18,
   "id": "e116c07e-8464-4b73-aa27-40550dfbad65",
   "metadata": {},
   "outputs": [
    {
     "data": {
      "text/plain": [
       "' My name is Pramod Si'"
      ]
     },
     "execution_count": 18,
     "metadata": {},
     "output_type": "execute_result"
    }
   ],
   "source": [
    "#except the last three character\n",
    "str2[:-3]\n"
   ]
  },
  {
   "cell_type": "code",
   "execution_count": 16,
   "id": "87c2ef77-3d18-4c03-9785-3257c8201886",
   "metadata": {},
   "outputs": [
    {
     "data": {
      "text/plain": [
       "'Hello'"
      ]
     },
     "execution_count": 16,
     "metadata": {},
     "output_type": "execute_result"
    }
   ],
   "source": [
    "# slicing with step\n",
    "string[0:5:1] # by defaults step is 1 "
   ]
  },
  {
   "cell_type": "code",
   "execution_count": 17,
   "id": "b0885ac2-837e-4314-8f32-fb685b483d2d",
   "metadata": {},
   "outputs": [
    {
     "data": {
      "text/plain": [
       "'Hlo'"
      ]
     },
     "execution_count": 17,
     "metadata": {},
     "output_type": "execute_result"
    }
   ],
   "source": [
    "string[0:5:2]#syntax>> [start:end:step]"
   ]
  },
  {
   "cell_type": "code",
   "execution_count": 20,
   "id": "0dab41da-f182-4a4b-94d1-27a6a2c85c3e",
   "metadata": {},
   "outputs": [
    {
     "data": {
      "text/plain": [
       "'dlroW olleH'"
      ]
     },
     "execution_count": 20,
     "metadata": {},
     "output_type": "execute_result"
    }
   ],
   "source": [
    " #iterate over the sequence in reverse order\n",
    "string[::-1]"
   ]
  },
  {
   "cell_type": "code",
   "execution_count": 22,
   "id": "e4606ecc-3063-44ed-8ae0-5660946c83c5",
   "metadata": {},
   "outputs": [
    {
     "data": {
      "text/plain": [
       "'rld'"
      ]
     },
     "execution_count": 22,
     "metadata": {},
     "output_type": "execute_result"
    }
   ],
   "source": [
    "#you want only last characters\n",
    "string[-3:]"
   ]
  },
  {
   "cell_type": "code",
   "execution_count": null,
   "id": "e842a36d-8814-4ff5-9f88-120d69ea8de1",
   "metadata": {},
   "outputs": [],
   "source": []
  },
  {
   "cell_type": "code",
   "execution_count": null,
   "id": "660bd4db-acf4-497d-a085-3d4f920c71aa",
   "metadata": {},
   "outputs": [],
   "source": []
  },
  {
   "cell_type": "code",
   "execution_count": 1,
   "id": "fa465eb7-bb68-46a4-85fd-b5091d4bde22",
   "metadata": {},
   "outputs": [],
   "source": [
    "# Ques2 features of list in python\n",
    "# ans are written in Google docs "
   ]
  },
  {
   "cell_type": "code",
   "execution_count": null,
   "id": "eb180e53-5a71-44e9-be59-aec7d06911b2",
   "metadata": {},
   "outputs": [],
   "source": []
  },
  {
   "cell_type": "code",
   "execution_count": 2,
   "id": "a049a8a7-50ca-452c-80bf-a723a81231d1",
   "metadata": {},
   "outputs": [],
   "source": [
    "# Ques 3- Describe how to access, modify and delete elements in a list with examples.\n",
    "\n"
   ]
  },
  {
   "cell_type": "code",
   "execution_count": 4,
   "id": "95f91720-0519-4d2e-809a-76a570f10743",
   "metadata": {},
   "outputs": [],
   "source": [
    "# Ans 3\n",
    "# Accessing Elements in a List\n",
    "\n",
    "grocery_list = [\"Milk\", \"Orange\", 1, 2.2, True, 3+5j]"
   ]
  },
  {
   "cell_type": "code",
   "execution_count": 5,
   "id": "9f7672d0-5097-4705-93d9-951147432839",
   "metadata": {},
   "outputs": [
    {
     "data": {
      "text/plain": [
       "'Milk'"
      ]
     },
     "execution_count": 5,
     "metadata": {},
     "output_type": "execute_result"
    }
   ],
   "source": [
    "grocery_list[0]"
   ]
  },
  {
   "cell_type": "code",
   "execution_count": 6,
   "id": "fc12b6c4-754a-4c2e-8765-68d5a9fe31f5",
   "metadata": {},
   "outputs": [
    {
     "data": {
      "text/plain": [
       "(3+5j)"
      ]
     },
     "execution_count": 6,
     "metadata": {},
     "output_type": "execute_result"
    }
   ],
   "source": [
    "grocery_list[-1]\n"
   ]
  },
  {
   "cell_type": "code",
   "execution_count": 11,
   "id": "6982953e-f3af-4d1b-8cec-a0a194525665",
   "metadata": {},
   "outputs": [
    {
     "data": {
      "text/plain": [
       "['Orange', 1, 2.2]"
      ]
     },
     "execution_count": 11,
     "metadata": {},
     "output_type": "execute_result"
    }
   ],
   "source": [
    "\n",
    "grocery_list[1:4]\n"
   ]
  },
  {
   "cell_type": "code",
   "execution_count": 12,
   "id": "eb7381d6-c3e8-4cf0-b99b-ea475fe7786e",
   "metadata": {},
   "outputs": [
    {
     "name": "stdout",
     "output_type": "stream",
     "text": [
      "Apple\n",
      "Laddu\n",
      "Rasmalai\n",
      "Barfi\n",
      "['Milk', 'Laddu', 'Barfi']\n",
      "['Apple', 'Milk', 'Laddu']\n",
      "['Laddu', 'Barfi', 'Potato', 'Rasmalai']\n",
      "['Barfi', 'Potato']\n"
     ]
    }
   ],
   "source": [
    "\n",
    "\n",
    "list1= [\"Apple\",\"Milk\",\"Laddu\",\"Barfi\",\"Potato\",\"Rasmalai\"]\n",
    "\n",
    "# Accessing elements using positive indexing\n",
    "print(list1[0]) \n",
    "print(list1[2])  \n",
    "\n",
    "# Accessing elements using negative indexing\n",
    "print(list1[-1])  \n",
    "print(list1[-3]) \n",
    "\n",
    "# Slicing the list\n",
    "print(list1[1:4])  \n",
    "print(list1[:3])  \n",
    "print(list1[2:])   \n",
    "print(list1[-3:-1]) "
   ]
  },
  {
   "cell_type": "code",
   "execution_count": null,
   "id": "0991fa37-3f85-462c-90cf-4b82cae3b290",
   "metadata": {},
   "outputs": [],
   "source": [
    "\n",
    "\n",
    "\n"
   ]
  },
  {
   "cell_type": "code",
   "execution_count": 29,
   "id": "8be34f54-0a36-4637-8ae5-b79a14f2fabf",
   "metadata": {},
   "outputs": [
    {
     "name": "stdout",
     "output_type": "stream",
     "text": [
      "['Ramayan', 'Mahabharat', 'Sultan', 'PK', 'Queen', 'Raja']\n"
     ]
    }
   ],
   "source": [
    "# Modifying Elements in a List\n",
    "\n",
    "movie_name=[\"Ramayan\", \"Dangal\", \"Sultan\",\"PK\",\"Queen\",\"Raja\"]\n",
    "movie_name[1]= \"Mahabharat\"\n",
    "print(movie_name)\n",
    "\n",
    "\n"
   ]
  },
  {
   "cell_type": "code",
   "execution_count": 30,
   "id": "056dcf4f-cae8-4a72-a624-a50750872461",
   "metadata": {},
   "outputs": [
    {
     "name": "stdout",
     "output_type": "stream",
     "text": [
      "['Ramayan', 'Mahabharat', 'Sultan', 'PK', 'Spiderman', 'Raja']\n"
     ]
    }
   ],
   "source": [
    "movie_name[4]= \"Spiderman\"\n",
    "print(movie_name)"
   ]
  },
  {
   "cell_type": "code",
   "execution_count": 31,
   "id": "34c0ba5a-ca5b-4e9e-838c-568c08f5a334",
   "metadata": {},
   "outputs": [
    {
     "name": "stdout",
     "output_type": "stream",
     "text": [
      "['Ramayan', 'Mahabharat', 'Sultan', 'PK', 'Spiderman', 'Raja', 'Batman']\n"
     ]
    }
   ],
   "source": [
    "movie_name.append(\"Batman\") # Insert at the end of the list\n",
    "print(movie_name)"
   ]
  },
  {
   "cell_type": "code",
   "execution_count": 32,
   "id": "c003660d-fbbf-44f0-9cb4-9b712ea15307",
   "metadata": {},
   "outputs": [
    {
     "data": {
      "text/plain": [
       "['Ramayan',\n",
       " 'Mahabharat',\n",
       " 'Rajahindustani',\n",
       " 'Sultan',\n",
       " 'PK',\n",
       " 'Spiderman',\n",
       " 'Raja',\n",
       " 'Batman']"
      ]
     },
     "execution_count": 32,
     "metadata": {},
     "output_type": "execute_result"
    }
   ],
   "source": [
    "movie_name.insert(2,\"Rajahindustani\") #Insert object before index\n",
    "movie_name "
   ]
  },
  {
   "cell_type": "code",
   "execution_count": 33,
   "id": "65b726fb-65c2-49bc-b967-d970e0f1b89a",
   "metadata": {},
   "outputs": [
    {
     "data": {
      "text/plain": [
       "['Ramayan',\n",
       " 'Mahabharat',\n",
       " 'Rajahindustani',\n",
       " 'Sultan',\n",
       " 'PK',\n",
       " 'Spiderman',\n",
       " 'Raja',\n",
       " 'Batman']"
      ]
     },
     "execution_count": 33,
     "metadata": {},
     "output_type": "execute_result"
    }
   ],
   "source": [
    "movie_name"
   ]
  },
  {
   "cell_type": "code",
   "execution_count": 34,
   "id": "e4a9d355-0713-4b0b-b8cb-9b512eeac0ed",
   "metadata": {},
   "outputs": [
    {
     "data": {
      "text/plain": [
       "['Ramayan',\n",
       " 'Mahabharat',\n",
       " 'Rajahindustani',\n",
       " 'Sultan',\n",
       " 'PK',\n",
       " 'Spiderman',\n",
       " 'Raja',\n",
       " 'Batman']"
      ]
     },
     "execution_count": 34,
     "metadata": {},
     "output_type": "execute_result"
    }
   ],
   "source": [
    "# Deleting Elements from a List\n",
    "\n",
    "movie_name\n"
   ]
  },
  {
   "cell_type": "code",
   "execution_count": 35,
   "id": "e6e35b23-0572-46ac-a1e4-bf03dfda8de0",
   "metadata": {},
   "outputs": [
    {
     "name": "stdout",
     "output_type": "stream",
     "text": [
      "['Ramayan', 'Rajahindustani', 'Sultan', 'PK', 'Spiderman', 'Raja', 'Batman']\n",
      "['Ramayan', 'Rajahindustani', 'Sultan', 'Spiderman', 'Raja', 'Batman']\n",
      "Sultan\n",
      "['Ramayan', 'Rajahindustani', 'Spiderman', 'Raja', 'Batman']\n",
      "Batman\n",
      "['Ramayan', 'Rajahindustani', 'Spiderman', 'Raja']\n"
     ]
    }
   ],
   "source": [
    "del movie_name[1] # Using del to remove an element by index\n",
    "print(movie_name)\n",
    "\n",
    "movie_name.remove(\"PK\") # Using remove() to remove the first occurrence of a value\n",
    "print(movie_name)\n",
    "\n",
    "popped_item=movie_name.pop(2) ## Using pop() to remove and return an element by index\n",
    "print(popped_item)\n",
    "print(movie_name)\n",
    "\n",
    "popped_item=movie_name.pop() # Using pop() without an index to remove the last element\n",
    "print(popped_item)\n",
    "print(movie_name)\n"
   ]
  },
  {
   "cell_type": "code",
   "execution_count": null,
   "id": "2a88ad75-ff3a-49d3-b00d-893c1ef3884a",
   "metadata": {},
   "outputs": [],
   "source": []
  },
  {
   "cell_type": "code",
   "execution_count": null,
   "id": "4fa9838c-4f7d-4606-8813-21f36e37a015",
   "metadata": {},
   "outputs": [],
   "source": []
  },
  {
   "cell_type": "code",
   "execution_count": 37,
   "id": "483c435f-2a3b-4012-b802-0bc1e23dd1a2",
   "metadata": {},
   "outputs": [],
   "source": [
    "# Ques 4 Compare and contrast tuples and lists with examples.\n",
    "# Ans \n",
    "\n"
   ]
  },
  {
   "cell_type": "code",
   "execution_count": 38,
   "id": "3e3c759a-f799-484e-9333-9971094cdb9b",
   "metadata": {},
   "outputs": [
    {
     "name": "stdout",
     "output_type": "stream",
     "text": [
      "3.5\n",
      "Book\n",
      "[1, 2, 'Orange', 'Pramod', 'Apple', 'Book']\n"
     ]
    }
   ],
   "source": [
    "# Creating and Accessing Elements in both Tuples and lists\n",
    "\n",
    "# Creating a list\n",
    "\n",
    "list1= [1,2,3.5,\"Pramod\",\"Apple\",\"Book\"]\n",
    "print(list1[2])   # Accessing the elements through indexing\n",
    "print(list1[-1])\n",
    "\n",
    "list1[2]= \"Orange\"# Modifying the Elements in list\n",
    "print(list1)"
   ]
  },
  {
   "cell_type": "code",
   "execution_count": 40,
   "id": "5277356d-56f2-44a2-b71e-3392b4dc41dc",
   "metadata": {},
   "outputs": [
    {
     "name": "stdout",
     "output_type": "stream",
     "text": [
      "3.5\n",
      "Book\n"
     ]
    }
   ],
   "source": [
    "# Tuple\n",
    "# Craeting a tuple\n",
    "\n",
    "tuple1= (1,2,3.5,\"Pramod\",\"Apple\",\"Book\")\n",
    "print(tuple1[2])   # Accessing the elements through indexing\n",
    "print(tuple1[-1])\n",
    "\n"
   ]
  },
  {
   "cell_type": "code",
   "execution_count": 41,
   "id": "465bce79-0c00-4d8f-b949-f02de980cf73",
   "metadata": {},
   "outputs": [
    {
     "ename": "TypeError",
     "evalue": "'tuple' object does not support item assignment",
     "output_type": "error",
     "traceback": [
      "\u001b[0;31m---------------------------------------------------------------------------\u001b[0m",
      "\u001b[0;31mTypeError\u001b[0m                                 Traceback (most recent call last)",
      "Cell \u001b[0;32mIn[41], line 1\u001b[0m\n\u001b[0;32m----> 1\u001b[0m \u001b[43mtuple1\u001b[49m\u001b[43m[\u001b[49m\u001b[38;5;241;43m2\u001b[39;49m\u001b[43m]\u001b[49m\u001b[38;5;241m=\u001b[39m \u001b[38;5;124m\"\u001b[39m\u001b[38;5;124mOrange\u001b[39m\u001b[38;5;124m\"\u001b[39m\u001b[38;5;66;03m# Trying to modifying the tuples \u001b[39;00m\n\u001b[1;32m      2\u001b[0m \u001b[38;5;28mprint\u001b[39m(tuple1)\n",
      "\u001b[0;31mTypeError\u001b[0m: 'tuple' object does not support item assignment"
     ]
    }
   ],
   "source": [
    "tuple1[2]= \"Orange\"# Trying to modifying the tuples \n",
    "print(tuple1)  # it will raise an error( tuple are immutable)\n"
   ]
  },
  {
   "cell_type": "code",
   "execution_count": 43,
   "id": "e7ccb483-f741-459b-a2a7-e9e8801419af",
   "metadata": {},
   "outputs": [
    {
     "name": "stdout",
     "output_type": "stream",
     "text": [
      "[1, 2, 3, 4]\n",
      "[1, 3, 4]\n",
      "[1, 3, 4]\n"
     ]
    }
   ],
   "source": [
    "# Methods of both List and Tuple\n",
    "\n",
    "# Creating a list\n",
    "list2 = [1, 2, 3]\n",
    "\n",
    "# Using append() to add an element\n",
    "list2.append(4)\n",
    "print(list2)  \n",
    "\n",
    "# Using remove() to remove an element\n",
    "list2.remove(2)\n",
    "print(list2)  \n",
    "\n",
    "# Using sort() to sort the list\n",
    "list2.sort()\n",
    "print(list2)  "
   ]
  },
  {
   "cell_type": "code",
   "execution_count": 47,
   "id": "545124a0-308a-4bcb-9f81-df89c48a1f26",
   "metadata": {},
   "outputs": [
    {
     "name": "stdout",
     "output_type": "stream",
     "text": [
      "2\n",
      "0\n"
     ]
    }
   ],
   "source": [
    "# Creating a tuple\n",
    "tuple2 = (1, 2, 3, 2)\n",
    "\n",
    "# Using count() to count occurrences of an element\n",
    "count = tuple2.count(2)\n",
    "print(count)  \n",
    "\n",
    "# Using index() to find the first occurrence of an element\n",
    "index = tuple2.index(1)\n",
    "print(index) \n"
   ]
  },
  {
   "cell_type": "code",
   "execution_count": null,
   "id": "50893949-0c0d-4c9a-985b-efe032763044",
   "metadata": {},
   "outputs": [],
   "source": [
    "\n",
    "\n"
   ]
  },
  {
   "cell_type": "code",
   "execution_count": 50,
   "id": "c41520d6-c55e-4515-a601-47755ee17ec4",
   "metadata": {},
   "outputs": [
    {
     "name": "stdout",
     "output_type": "stream",
     "text": [
      "{1, 2, 3, 'Brinjal', 'Apple'}\n"
     ]
    }
   ],
   "source": [
    "# Ques-5- Describe key features of sets and provide examples of their use.\n",
    "# Ans-\n",
    "# Example of use cases of set\n",
    "\n",
    "\n",
    "# Removing Duplicates from a List:\n",
    "\n",
    "set1 = [1, 2, 3, \"Brinjal\", \"Brinjal\", \"Apple\", \"Apple\"]\n",
    "s = set(set1)\n",
    "print(s)"
   ]
  },
  {
   "cell_type": "code",
   "execution_count": 51,
   "id": "4d6c5702-9f0a-4f92-841f-1ff23594af13",
   "metadata": {},
   "outputs": [
    {
     "name": "stdout",
     "output_type": "stream",
     "text": [
      "True\n",
      "False\n"
     ]
    }
   ],
   "source": [
    "# membership testing\n",
    "\n",
    "basket= {\"apple\",\"banana\",\"mango\",\"orange\"}\n",
    "print('apple' in basket)  \n",
    "print('grape' in basket)\n"
   ]
  },
  {
   "cell_type": "code",
   "execution_count": 52,
   "id": "140bccca-98af-4148-bad4-df2c174fa6d4",
   "metadata": {},
   "outputs": [
    {
     "name": "stdout",
     "output_type": "stream",
     "text": [
      "{'maths'}\n",
      "{'english', 'Physics', 'chemistry', 'science', 'history', 'bio'}\n"
     ]
    }
   ],
   "source": [
    "# Operations in sets\n",
    "\n",
    "book_self1={\"maths\",\"english\",\"science\",\"history\"}\n",
    "book_self2={\"Physics\",\"maths\",\"bio\",\"chemistry\"}\n",
    "# book that is in both self \n",
    "both_self= book_self1 & book_self2\n",
    "print(both_self)\n",
    "\n",
    "# Books that are inneither self 1 or self 2 not in both \n",
    "either_but_not_both= book_self1 ^ book_self2\n",
    "print(either_but_not_both)"
   ]
  },
  {
   "cell_type": "code",
   "execution_count": null,
   "id": "08aa9fd9-46a3-42ef-b0fb-ae269c347744",
   "metadata": {},
   "outputs": [],
   "source": []
  },
  {
   "cell_type": "code",
   "execution_count": null,
   "id": "074472d9-ccdd-4f5a-b83f-5e8fc5374b32",
   "metadata": {},
   "outputs": [],
   "source": []
  },
  {
   "cell_type": "code",
   "execution_count": 53,
   "id": "4d4571be-e9f3-459d-8e3f-d7f47f5a6357",
   "metadata": {},
   "outputs": [],
   "source": [
    "# Ques 6 Discuss the use cases of tuples and set in Python Programming."
   ]
  },
  {
   "cell_type": "code",
   "execution_count": null,
   "id": "c8497ea1-696d-43a6-94bf-8f46c24003c0",
   "metadata": {},
   "outputs": [],
   "source": [
    "#Tuple Examples"
   ]
  },
  {
   "cell_type": "code",
   "execution_count": 55,
   "id": "1b8d31aa-aeb6-493f-aea7-50ef247462ea",
   "metadata": {},
   "outputs": [
    {
     "name": "stdout",
     "output_type": "stream",
     "text": [
      "(10, 20, 30)\n",
      "('Monday', 'Tuesday', 'Wednesday', 'Thursday', 'Friday', 'Saturday', 'Sunday')\n"
     ]
    }
   ],
   "source": [
    "#example 1 # Fixed Collections of Items # useful when need not to change the data throug the program\n",
    "\n",
    "# Coordinates of a point\n",
    "point = (10, 20, 30)\n",
    "print(point)\n",
    "\n",
    "# Days of the week\n",
    "days_of_week = (\"Monday\", \"Tuesday\", \"Wednesday\", \"Thursday\", \"Friday\", \"Saturday\", \"Sunday\")\n",
    "print(days_of_week)"
   ]
  },
  {
   "cell_type": "code",
   "execution_count": 56,
   "id": "71553c79-9e4b-4c10-a370-52503abe3987",
   "metadata": {},
   "outputs": [
    {
     "name": "stdout",
     "output_type": "stream",
     "text": [
      "{(10, 20): 'Point A', (30, 40): 'Point B'}\n"
     ]
    }
   ],
   "source": [
    "#Examples 2\n",
    "#Dictionary Keys\n",
    "#Tuples can be used as keys in dictionaries because they are immutable\n",
    "\n",
    "# Using tuples as dictionary keys\n",
    "coordinates = {}\n",
    "coordinates[(10, 20)] = \"Point A\"\n",
    "coordinates[(30, 40)] = \"Point B\"\n",
    "print(coordinates)"
   ]
  },
  {
   "cell_type": "code",
   "execution_count": null,
   "id": "80e6ab3d-0b3f-44ae-bc16-c9c9ec2588f2",
   "metadata": {},
   "outputs": [],
   "source": []
  },
  {
   "cell_type": "code",
   "execution_count": 63,
   "id": "2b7416ef-de0b-4f28-b9f3-ce95bb96a306",
   "metadata": {},
   "outputs": [
    {
     "name": "stdout",
     "output_type": "stream",
     "text": [
      " pramod:89\n",
      " sunit:65\n",
      " nitish:87\n"
     ]
    }
   ],
   "source": [
    "#Example 3 \n",
    "#Iterating through Multiple Sequences Simultaneously\n",
    "#The zip() function can combine multiple sequences, creating tuples\n",
    "name=(\"pramod\",\"sunit\",\"nitish\")\n",
    "marks=(89,65,87)\n",
    "for name,marks in zip(name,marks):\n",
    "    print(f\" {name}:{marks}\")\n"
   ]
  },
  {
   "cell_type": "code",
   "execution_count": 64,
   "id": "feab55d3-c90e-44b0-8ee6-de359b4994e3",
   "metadata": {},
   "outputs": [],
   "source": [
    "# Set Examples"
   ]
  },
  {
   "cell_type": "code",
   "execution_count": 66,
   "id": "0836e96a-0d5c-4c84-87cf-0eb5855643d6",
   "metadata": {},
   "outputs": [
    {
     "name": "stdout",
     "output_type": "stream",
     "text": [
      "{1, 2, 3, 4, 5}\n"
     ]
    }
   ],
   "source": [
    "# Example 1\n",
    "#Removing Duplicates\n",
    "\n",
    "numbers = [1, 2, 2, 3, 4, 4, 5]\n",
    "unique_numbers = set(numbers)\n",
    "print(unique_numbers)"
   ]
  },
  {
   "cell_type": "code",
   "execution_count": 68,
   "id": "16a1e5b5-e662-43a7-8983-a672f1c4715f",
   "metadata": {},
   "outputs": [
    {
     "name": "stdout",
     "output_type": "stream",
     "text": [
      "True\n",
      "False\n"
     ]
    }
   ],
   "source": [
    "# Exapmple 2\n",
    "# Membership Testing\n",
    "basket= {\"apple\",\"banana\",\"mango\",\"orange\"}\n",
    "print('apple' in basket)  \n",
    "print('grape' in basket)"
   ]
  },
  {
   "cell_type": "code",
   "execution_count": 71,
   "id": "e80c6f17-4c0b-48b7-aaef-c33828971eab",
   "metadata": {},
   "outputs": [
    {
     "name": "stdout",
     "output_type": "stream",
     "text": [
      "{'apple', 'orange', 'banana'}\n"
     ]
    }
   ],
   "source": [
    "# Examples 3\n",
    "#Finding Unique Elements\n",
    "items = [\"apple\", \"banana\", \"apple\", \"orange\"]\n",
    "unique_items = set(items)\n",
    "print(unique_items)"
   ]
  },
  {
   "cell_type": "code",
   "execution_count": null,
   "id": "ccc86c6d-3a39-4e63-bc90-1d8763cd0c87",
   "metadata": {},
   "outputs": [],
   "source": []
  },
  {
   "cell_type": "code",
   "execution_count": null,
   "id": "76f6fc5b-e8c7-410d-a4b3-78a41a40b3bd",
   "metadata": {},
   "outputs": [],
   "source": []
  },
  {
   "cell_type": "code",
   "execution_count": 72,
   "id": "706fd97d-e896-425e-9bd3-42d6c1c0c7af",
   "metadata": {},
   "outputs": [],
   "source": [
    "#Ques -7 Describe how to add, delete and modify items in dictionary with examples\n",
    "# Adding items\n",
    "\n",
    "# Creating an initial dictionary\n",
    "student= {\"name\": \"Pramod\",\"Age\":24}"
   ]
  },
  {
   "cell_type": "code",
   "execution_count": 73,
   "id": "f27c3412-e568-4fbb-af2a-646aa7c37867",
   "metadata": {},
   "outputs": [
    {
     "data": {
      "text/plain": [
       "{'name': 'Pramod', 'Age': 24}"
      ]
     },
     "execution_count": 73,
     "metadata": {},
     "output_type": "execute_result"
    }
   ],
   "source": [
    "student"
   ]
  },
  {
   "cell_type": "code",
   "execution_count": 75,
   "id": "1e5b7661-3bbe-4f88-8664-fde2945652d7",
   "metadata": {},
   "outputs": [
    {
     "name": "stdout",
     "output_type": "stream",
     "text": [
      "{'name': 'Pramod', 'Age': 24, 'course': 'Data_Analytics'}\n"
     ]
    }
   ],
   "source": [
    "# Adding a new key-value pair\n",
    "student[\"course\"] = \"Data_Analytics\"\n",
    "print(student)\n",
    "\n"
   ]
  },
  {
   "cell_type": "code",
   "execution_count": 8,
   "id": "a7a7db33-973f-4892-863d-90aeb64b7ccb",
   "metadata": {},
   "outputs": [
    {
     "name": "stdout",
     "output_type": "stream",
     "text": [
      "{'name': 'Pramod', 'Age': 24, 'city': 'New Delhi'}\n"
     ]
    }
   ],
   "source": [
    "#Adding a key-value pair conditionally\n",
    "\n",
    "student= {\"name\": \"Pramod\",\"Age\":24}\n",
    "if \"city\" not in student:\n",
    "    student[\"city\"]=\"New Delhi\"\n",
    "print(student)\n",
    "\n"
   ]
  },
  {
   "cell_type": "code",
   "execution_count": null,
   "id": "bcf2c120-8a1b-4e2e-a381-f2d510f091a9",
   "metadata": {},
   "outputs": [],
   "source": [
    "\n",
    "\n"
   ]
  },
  {
   "cell_type": "code",
   "execution_count": 77,
   "id": "7f36a73d-4ae9-43f2-91d1-9ba68967d49c",
   "metadata": {},
   "outputs": [
    {
     "name": "stdout",
     "output_type": "stream",
     "text": [
      "{'name': 'Pramod', 'Age': 24}\n"
     ]
    }
   ],
   "source": [
    "# Deleting Items \n",
    "student= {\"name\": \"Pramod\",\"Age\":24,\"course\":\"Data_Analytics\"}\n",
    "\n",
    "del student[\"course\"]  # Deleting an item using del\n",
    "print(student)"
   ]
  },
  {
   "cell_type": "code",
   "execution_count": 78,
   "id": "33a317c5-6449-43ce-84d9-f38a179c98e2",
   "metadata": {},
   "outputs": [
    {
     "name": "stdout",
     "output_type": "stream",
     "text": [
      "{'name': 'Pramod', 'Age': 24}\n"
     ]
    }
   ],
   "source": [
    "student= {\"name\": \"Pramod\",\"Age\":24,\"course\":\"Data_Analytics\"}\n",
    "\n",
    "student.pop(\"course\") # Deleting an item using pop\n",
    "print(student)"
   ]
  },
  {
   "cell_type": "code",
   "execution_count": 80,
   "id": "87b46836-4574-4ae6-9f40-4c38c3d640e6",
   "metadata": {},
   "outputs": [
    {
     "name": "stdout",
     "output_type": "stream",
     "text": [
      "{'name': 'Pramod', 'Age': 24} Removed Item: Data_Analytics\n"
     ]
    }
   ],
   "source": [
    "student= {\"name\": \"Pramod\",\"Age\":24,\"course\":\"Data_Analytics\"}\n",
    "\n",
    "removed_item= student.pop(\"course\") # Deleting an item using pop\n",
    "print(student,\"Removed Item:\",removed_item)"
   ]
  },
  {
   "cell_type": "code",
   "execution_count": null,
   "id": "2abd49a3-c1c3-431f-9e76-72ef379df34d",
   "metadata": {},
   "outputs": [],
   "source": []
  },
  {
   "cell_type": "code",
   "execution_count": 1,
   "id": "c97e879b-51a1-4a91-a61d-ee6da28f252e",
   "metadata": {},
   "outputs": [
    {
     "name": "stdout",
     "output_type": "stream",
     "text": [
      "{'name': 'Pramod', 'Age': 25, 'course': 'Data_Analytics'}\n"
     ]
    }
   ],
   "source": [
    "# Modifying Items\n",
    "#To modify an item in a dictionary, we can assign a new value to an existing key\n",
    "\n",
    "student= {\"name\": \"Pramod\",\"Age\":24,\"course\":\"Data_Analytics\"}\n",
    "student[\"Age\"]= 25\n",
    "print(student)\n"
   ]
  },
  {
   "cell_type": "code",
   "execution_count": null,
   "id": "63bffbfa-f872-4e79-ae8b-84eb6139e2af",
   "metadata": {},
   "outputs": [],
   "source": []
  },
  {
   "cell_type": "code",
   "execution_count": 2,
   "id": "dfa7d97f-0207-4121-8cc1-1877f5c97ecc",
   "metadata": {},
   "outputs": [
    {
     "name": "stdout",
     "output_type": "stream",
     "text": [
      "{'name': 'Pramod', 'Age': 26, 'course': 'Data_Analytics'}\n"
     ]
    }
   ],
   "source": [
    "## Modifying a key-value pair conditionally\n",
    "student= {\"name\": \"Pramod\",\"Age\":24,\"course\":\"Data_Analytics\"}\n",
    "if student[\"Age\"]==24:\n",
    "    student[\"Age\"]= 26\n",
    "print(student)\n"
   ]
  },
  {
   "cell_type": "code",
   "execution_count": null,
   "id": "fc00c8ea-28ed-4325-b9bc-7287cb39cfe0",
   "metadata": {},
   "outputs": [],
   "source": []
  },
  {
   "cell_type": "code",
   "execution_count": 3,
   "id": "e02649fd-c360-447c-933f-0f88de179a78",
   "metadata": {},
   "outputs": [
    {
     "name": "stdout",
     "output_type": "stream",
     "text": [
      "{'Pramod': 95, 'Sunit': 61, 'Nitish': 83, 'Ram': 92}\n"
     ]
    }
   ],
   "source": [
    "#Using a Loop to Modify Items \n",
    "marks={\"Pramod\": 90,\"Sunit\":56,\"Nitish\":78,\"Ram\": 87}\n",
    "\n",
    "for student in marks:\n",
    "    marks[student]+=5\n",
    "print(marks)"
   ]
  },
  {
   "cell_type": "code",
   "execution_count": 4,
   "id": "285c230d-8cc3-421e-a491-0d2445cec96a",
   "metadata": {},
   "outputs": [],
   "source": [
    "# Using method"
   ]
  },
  {
   "cell_type": "code",
   "execution_count": 6,
   "id": "720d7eda-3906-4f96-af6a-b3aa4bca5982",
   "metadata": {},
   "outputs": [
    {
     "name": "stdout",
     "output_type": "stream",
     "text": [
      "{'Pramod': 78, 'Sunit': 56, 'Nitish': 78, 'Ram': 87}\n"
     ]
    }
   ],
   "source": [
    "marks={\"Pramod\": 90,\"Sunit\":56,\"Nitish\":78,\"Ram\": 87}\n",
    "marks.update({\"Pramod\":78})\n",
    "print(marks)"
   ]
  },
  {
   "cell_type": "code",
   "execution_count": null,
   "id": "d33e62b9-a493-4e97-a463-f63b8d161fa8",
   "metadata": {},
   "outputs": [],
   "source": [
    "\n",
    "\n"
   ]
  },
  {
   "cell_type": "code",
   "execution_count": null,
   "id": "8bec393c-73b3-4a06-9526-ca32fc39549b",
   "metadata": {},
   "outputs": [],
   "source": []
  },
  {
   "cell_type": "code",
   "execution_count": 9,
   "id": "90131e4a-2a61-467e-999d-fa63aee348d8",
   "metadata": {},
   "outputs": [
    {
     "name": "stdout",
     "output_type": "stream",
     "text": [
      "{1: 'one', 2: 'two', 'three': 3, (4, 5): 'tuple', frozenset({6, 7}): 'frozenset'}\n"
     ]
    }
   ],
   "source": [
    "# Ques 8 Discuss the importance of Dictionary keys being immutable and provide examples\n",
    "#Immutable Types (can be used as dictionary keys):\n",
    "\n",
    "# Example dictionary with immutable keys\n",
    "dict1 = {\n",
    "    1: 'one',\n",
    "    2: 'two',\n",
    "    'three': 3,\n",
    "    (4, 5): 'tuple',\n",
    "    frozenset({6, 7}): 'frozenset'\n",
    "}\n",
    "print(dict1)"
   ]
  },
  {
   "cell_type": "code",
   "execution_count": null,
   "id": "38d27628-7190-4d42-8f4e-33e2ff43268b",
   "metadata": {},
   "outputs": [],
   "source": []
  },
  {
   "cell_type": "code",
   "execution_count": 19,
   "id": "671a4609-6bea-4334-9b91-baf52696a0ba",
   "metadata": {},
   "outputs": [
    {
     "ename": "TypeError",
     "evalue": "unhashable type: 'set'",
     "output_type": "error",
     "traceback": [
      "\u001b[0;31m---------------------------------------------------------------------------\u001b[0m",
      "\u001b[0;31mTypeError\u001b[0m                                 Traceback (most recent call last)",
      "Cell \u001b[0;32mIn[19], line 3\u001b[0m\n\u001b[1;32m      1\u001b[0m \u001b[38;5;66;03m# Mutable Types (cannot be used as dictionary keys)\u001b[39;00m\n\u001b[0;32m----> 3\u001b[0m dict1 \u001b[38;5;241m=\u001b[39m {\n\u001b[1;32m      4\u001b[0m     \u001b[38;5;241m1\u001b[39m: \u001b[38;5;124m'\u001b[39m\u001b[38;5;124mone\u001b[39m\u001b[38;5;124m'\u001b[39m,\n\u001b[1;32m      5\u001b[0m     \u001b[38;5;241m2\u001b[39m: \u001b[38;5;124m'\u001b[39m\u001b[38;5;124mtwo\u001b[39m\u001b[38;5;124m'\u001b[39m,\n\u001b[1;32m      6\u001b[0m     \u001b[38;5;124m'\u001b[39m\u001b[38;5;124mthree\u001b[39m\u001b[38;5;124m'\u001b[39m: \u001b[38;5;241m3\u001b[39m,\n\u001b[1;32m      7\u001b[0m     {\u001b[38;5;241m4\u001b[39m, \u001b[38;5;241m5\u001b[39m}: \u001b[38;5;124m'\u001b[39m\u001b[38;5;124mset\u001b[39m\u001b[38;5;124m'\u001b[39m, \u001b[38;5;66;03m# set are unhashable\u001b[39;00m\n\u001b[1;32m      8\u001b[0m     \u001b[38;5;28mfrozenset\u001b[39m({\u001b[38;5;241m6\u001b[39m, \u001b[38;5;241m7\u001b[39m}): \u001b[38;5;124m'\u001b[39m\u001b[38;5;124mfrozenset\u001b[39m\u001b[38;5;124m'\u001b[39m\n\u001b[1;32m      9\u001b[0m }\n\u001b[1;32m     10\u001b[0m \u001b[38;5;28mprint\u001b[39m(dict1)\n",
      "\u001b[0;31mTypeError\u001b[0m: unhashable type: 'set'"
     ]
    }
   ],
   "source": [
    "# Mutable Types (cannot be used as dictionary keys)\n",
    "\n",
    "dict1 = {\n",
    "    1: 'one',\n",
    "    2: 'two',\n",
    "    'three': 3,\n",
    "    {4, 5}: 'set', # set are unhashable\n",
    "    frozenset({6, 7}): 'frozenset'\n",
    "}\n",
    "print(dict1)\n"
   ]
  },
  {
   "cell_type": "code",
   "execution_count": 12,
   "id": "d15af0c5-1454-4ccc-a341-5323cae7be14",
   "metadata": {},
   "outputs": [
    {
     "data": {
      "text/plain": [
       "{(1, 2, 3): 'abc'}"
      ]
     },
     "execution_count": 12,
     "metadata": {},
     "output_type": "execute_result"
    }
   ],
   "source": [
    "d = {(1, 2, 3): \"abc\"} # tuple are hashable\n",
    "d "
   ]
  },
  {
   "cell_type": "code",
   "execution_count": 14,
   "id": "d8849720-7f54-4f2f-ac19-690914b2fe28",
   "metadata": {},
   "outputs": [
    {
     "ename": "TypeError",
     "evalue": "unhashable type: 'list'",
     "output_type": "error",
     "traceback": [
      "\u001b[0;31m---------------------------------------------------------------------------\u001b[0m",
      "\u001b[0;31mTypeError\u001b[0m                                 Traceback (most recent call last)",
      "Cell \u001b[0;32mIn[14], line 1\u001b[0m\n\u001b[0;32m----> 1\u001b[0m d \u001b[38;5;241m=\u001b[39m {[\u001b[38;5;241m1\u001b[39m, \u001b[38;5;241m2\u001b[39m, \u001b[38;5;241m3\u001b[39m]:\u001b[38;5;124m\"\u001b[39m\u001b[38;5;124mAjay\u001b[39m\u001b[38;5;124m\"\u001b[39m}\n\u001b[1;32m      2\u001b[0m \u001b[38;5;28mprint\u001b[39m(d)\n",
      "\u001b[0;31mTypeError\u001b[0m: unhashable type: 'list'"
     ]
    }
   ],
   "source": [
    "d = {[1, 2, 3]:\"Ajay\"}\n",
    "print(d) # list are unhashable"
   ]
  },
  {
   "cell_type": "code",
   "execution_count": null,
   "id": "edf27e15-bc4c-4bec-9e39-6a9837cbdd3d",
   "metadata": {},
   "outputs": [],
   "source": []
  },
  {
   "cell_type": "code",
   "execution_count": 15,
   "id": "65af40a8-00d6-42f9-abf6-acbbef7ea11d",
   "metadata": {},
   "outputs": [
    {
     "name": "stdout",
     "output_type": "stream",
     "text": [
      "{(1, 2): 'value'}\n"
     ]
    }
   ],
   "source": [
    "# Hashing and retrieval\n",
    "key = [1, 2]\n",
    "d = {tuple(key): 'value'}  # Convert list to tuple to use as key\n",
    "key.append(3)\n",
    "print(d) \n",
    "#even if the original list changes, the tuple key remains unchanged and correctly hashes to the stored value"
   ]
  },
  {
   "cell_type": "code",
   "execution_count": 16,
   "id": "d3caa803-c626-460b-aa3e-6451243007ea",
   "metadata": {},
   "outputs": [
    {
     "data": {
      "text/plain": [
       "[1, 2, 3]"
      ]
     },
     "execution_count": 16,
     "metadata": {},
     "output_type": "execute_result"
    }
   ],
   "source": [
    "key"
   ]
  },
  {
   "cell_type": "code",
   "execution_count": 18,
   "id": "f7253559-dd07-47ce-849e-57fb85c4cdc1",
   "metadata": {},
   "outputs": [
    {
     "data": {
      "text/plain": [
       "{'name': ['Sanjay', 'Ajay', 1, 2],\n",
       " 'email': 'aj@gmail.com',\n",
       " 'contact': (1234, 678)}"
      ]
     },
     "execution_count": 18,
     "metadata": {},
     "output_type": "execute_result"
    }
   ],
   "source": [
    "# all keyss must be immutable\n",
    "d = {'name': ['Sanjay', \"Ajay\", 1, 2], 'email': 'aj@gmail.com', 'contact': (1234, 678)}\n",
    "d"
   ]
  },
  {
   "cell_type": "code",
   "execution_count": null,
   "id": "df5efa8a-fc14-447a-a6ab-ed9d0aa83628",
   "metadata": {},
   "outputs": [],
   "source": []
  }
 ],
 "metadata": {
  "kernelspec": {
   "display_name": "Python 3 (ipykernel)",
   "language": "python",
   "name": "python3"
  },
  "language_info": {
   "codemirror_mode": {
    "name": "ipython",
    "version": 3
   },
   "file_extension": ".py",
   "mimetype": "text/x-python",
   "name": "python",
   "nbconvert_exporter": "python",
   "pygments_lexer": "ipython3",
   "version": "3.10.8"
  }
 },
 "nbformat": 4,
 "nbformat_minor": 5
}
