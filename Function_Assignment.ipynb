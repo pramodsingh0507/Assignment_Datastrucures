{
  "nbformat": 4,
  "nbformat_minor": 0,
  "metadata": {
    "colab": {
      "provenance": [],
      "authorship_tag": "ABX9TyM0XKf/yRk7IfQAN9+vifGh",
      "include_colab_link": true
    },
    "kernelspec": {
      "name": "python3",
      "display_name": "Python 3"
    },
    "language_info": {
      "name": "python"
    }
  },
  "cells": [
    {
      "cell_type": "markdown",
      "metadata": {
        "id": "view-in-github",
        "colab_type": "text"
      },
      "source": [
        "<a href=\"https://colab.research.google.com/github/pramodsingh0507/Assignment_Datastrucures/blob/main/Function_Assignment.ipynb\" target=\"_parent\"><img src=\"https://colab.research.google.com/assets/colab-badge.svg\" alt=\"Open In Colab\"/></a>"
      ]
    },
    {
      "cell_type": "code",
      "execution_count": null,
      "metadata": {
        "id": "aWoGXBA3pZsj"
      },
      "outputs": [],
      "source": [
        "# Ques. 1- What is the difference between a function and method in Python.\n"
      ]
    },
    {
      "cell_type": "code",
      "source": [
        "# Function\n",
        "def greet(name):\n",
        "    return f\"Hello, {name}!\"\n",
        "\n",
        "# Calling the function\n",
        "print(greet(\"Pramod\"))\n"
      ],
      "metadata": {
        "id": "mtx2pdgNpaUV",
        "colab": {
          "base_uri": "https://localhost:8080/"
        },
        "outputId": "b05a05da-b132-4e62-ef04-ecb7c02d43b7"
      },
      "execution_count": null,
      "outputs": [
        {
          "output_type": "stream",
          "name": "stdout",
          "text": [
            "Hello, Pramod!\n"
          ]
        }
      ]
    },
    {
      "cell_type": "code",
      "source": [
        "# Method\n",
        "class Greeter:\n",
        "    def __init__(self, name):\n",
        "        self.name = name\n",
        "\n",
        "    def greet(self):\n",
        "        return f\"Hello, {self.name}!\"\n",
        "\n",
        "# Creating an instance of the Greeter class\n",
        "greeter = Greeter(\"Pramod\")\n",
        "# Calling the method\n",
        "print(greeter.greet())\n"
      ],
      "metadata": {
        "colab": {
          "base_uri": "https://localhost:8080/"
        },
        "id": "PbXppXEkqJJB",
        "outputId": "498ed5eb-529c-4006-810e-96309676ad6a"
      },
      "execution_count": null,
      "outputs": [
        {
          "output_type": "stream",
          "name": "stdout",
          "text": [
            "Hello, Pramod!\n"
          ]
        }
      ]
    },
    {
      "cell_type": "code",
      "source": [
        "# Function\n",
        "def calculate_area(length, width):\n",
        "    return length * width\n",
        "\n",
        "# Calling the function\n",
        "area = calculate_area(5, 3)\n",
        "print(f\"Area of the rectangle: {area}\")\n"
      ],
      "metadata": {
        "colab": {
          "base_uri": "https://localhost:8080/"
        },
        "id": "OhgSXNfaqWqs",
        "outputId": "26664897-58ee-4a7b-d8c7-b2f80e31feb8"
      },
      "execution_count": null,
      "outputs": [
        {
          "output_type": "stream",
          "name": "stdout",
          "text": [
            "Area of the rectangle: 15\n"
          ]
        }
      ]
    },
    {
      "cell_type": "code",
      "source": [
        "# Method\n",
        "\n",
        "class Rectangle:\n",
        "    def __init__(self, length, width):\n",
        "        self.length = length\n",
        "        self.width = width\n",
        "\n",
        "    def calculate_area(self):\n",
        "        return self.length * self.width\n",
        "\n",
        "# Creating an instance of the Rectangle class\n",
        "my_rectangle = Rectangle(5, 3)\n",
        "# Calling the method\n",
        "area = my_rectangle.calculate_area()\n",
        "print(f\"Area of the rectangle: {area}\")\n"
      ],
      "metadata": {
        "colab": {
          "base_uri": "https://localhost:8080/"
        },
        "id": "-FLZPpwLqh-i",
        "outputId": "b6ccc4b0-f0db-45f5-ddb6-c084a5f27011"
      },
      "execution_count": null,
      "outputs": [
        {
          "output_type": "stream",
          "name": "stdout",
          "text": [
            "Area of the rectangle: 15\n"
          ]
        }
      ]
    },
    {
      "cell_type": "code",
      "source": [],
      "metadata": {
        "id": "Iuxb0dP9qpvg"
      },
      "execution_count": null,
      "outputs": []
    },
    {
      "cell_type": "code",
      "source": [
        "# Ques 2  Explain the concepts of function arguments and parameters in Python\n",
        "# Parameter\n",
        "\n",
        "def add(x, y):  # x and y are parameters\n",
        "    return x + y\n",
        "add(5,4)"
      ],
      "metadata": {
        "colab": {
          "base_uri": "https://localhost:8080/"
        },
        "id": "2WyQK-nrqr6G",
        "outputId": "5b14ca6b-9263-40b2-ada4-a4f037099f3d"
      },
      "execution_count": null,
      "outputs": [
        {
          "output_type": "execute_result",
          "data": {
            "text/plain": [
              "9"
            ]
          },
          "metadata": {},
          "execution_count": 9
        }
      ]
    },
    {
      "cell_type": "code",
      "source": [
        "# A function that calculates the volume of a cylinder using multiple parameters:\n",
        "import math\n",
        "\n",
        "def cylinder_volume(radius, height):\n",
        "    return math.pi * (radius ** 2) * height\n",
        "\n",
        "# Calling the function\n",
        "volume = cylinder_volume(3, 5)\n",
        "print(f\"Volume of the cylinder: {volume:.2f}\")\n"
      ],
      "metadata": {
        "colab": {
          "base_uri": "https://localhost:8080/"
        },
        "id": "BWMmCVZNq-bz",
        "outputId": "4fe5df3f-5a26-4433-cf7d-d3c7752fb66a"
      },
      "execution_count": null,
      "outputs": [
        {
          "output_type": "stream",
          "name": "stdout",
          "text": [
            "Volume of the cylinder: 141.37\n"
          ]
        }
      ]
    },
    {
      "cell_type": "code",
      "source": [
        "# Arguements\n",
        "\n",
        "result = add(5, 3)  # 5 and 3 are arguments\n",
        "print(result)\n"
      ],
      "metadata": {
        "colab": {
          "base_uri": "https://localhost:8080/"
        },
        "id": "ogTV2ysAraWt",
        "outputId": "ba387269-9e8d-4613-df49-316a8d94c1bb"
      },
      "execution_count": null,
      "outputs": [
        {
          "output_type": "stream",
          "name": "stdout",
          "text": [
            "8\n"
          ]
        }
      ]
    },
    {
      "cell_type": "code",
      "source": [
        "# Positional Arguments\n",
        "def greet(first_name, last_name):\n",
        "    return f\"Hello, {first_name} {last_name}!\"\n",
        "\n",
        "print(greet(\"John\", \"Doe\"))\n"
      ],
      "metadata": {
        "colab": {
          "base_uri": "https://localhost:8080/"
        },
        "id": "8DPG7TjfrewW",
        "outputId": "189fa9cf-388e-4abe-e63a-1e6652fa0ffb"
      },
      "execution_count": null,
      "outputs": [
        {
          "output_type": "stream",
          "name": "stdout",
          "text": [
            "Hello, John Doe!\n"
          ]
        }
      ]
    },
    {
      "cell_type": "code",
      "source": [],
      "metadata": {
        "id": "mAtx3ZXDrkJe"
      },
      "execution_count": null,
      "outputs": []
    },
    {
      "cell_type": "code",
      "source": [],
      "metadata": {
        "id": "p1MTwo5vrpAQ"
      },
      "execution_count": null,
      "outputs": []
    },
    {
      "cell_type": "code",
      "source": [
        "# Ques 3  What are the different ways to define and call functions in Python.\n",
        "\n",
        "# Basic Function Definition\n",
        "# Function\n",
        "def greet(name):\n",
        "    return f\"Hello, {name}!\"\n",
        "\n",
        "# Calling the function\n",
        "print(greet(\"Pramod\"))"
      ],
      "metadata": {
        "colab": {
          "base_uri": "https://localhost:8080/"
        },
        "id": "QaMarl9UrpVF",
        "outputId": "14ab7203-ceaf-40ca-d7a3-7894d882d467"
      },
      "execution_count": null,
      "outputs": [
        {
          "output_type": "stream",
          "name": "stdout",
          "text": [
            "Hello, Pramod!\n"
          ]
        }
      ]
    },
    {
      "cell_type": "code",
      "source": [
        "# Function with Multiple Parameters\n",
        "def add(a, b):\n",
        "    return a + b\n",
        "\n",
        "# Calling the function\n",
        "print(add(3, 5))"
      ],
      "metadata": {
        "colab": {
          "base_uri": "https://localhost:8080/"
        },
        "id": "cURZOe4tr3fY",
        "outputId": "a4a8d47c-28a6-4cfc-b3e4-effd4fe4abb0"
      },
      "execution_count": null,
      "outputs": [
        {
          "output_type": "stream",
          "name": "stdout",
          "text": [
            "8\n"
          ]
        }
      ]
    },
    {
      "cell_type": "code",
      "source": [
        "# Lambda Functions\n",
        "square = lambda x: x ** 2\n",
        "\n",
        "# Calling the lambda function\n",
        "print(square(5))\n"
      ],
      "metadata": {
        "colab": {
          "base_uri": "https://localhost:8080/"
        },
        "id": "Q-5MulcpsIPn",
        "outputId": "1ebbb193-50f1-49f9-a6d4-56c6dda892c2"
      },
      "execution_count": null,
      "outputs": [
        {
          "output_type": "stream",
          "name": "stdout",
          "text": [
            "25\n"
          ]
        }
      ]
    },
    {
      "cell_type": "code",
      "source": [
        "#  Nested Functions\n",
        "def outer_function(x):\n",
        "    def inner_function(y):\n",
        "        return y + 1\n",
        "    return inner_function(x)\n",
        "\n",
        "# Calling the outer function\n",
        "print(outer_function(5))  # Output: 6\n"
      ],
      "metadata": {
        "colab": {
          "base_uri": "https://localhost:8080/"
        },
        "id": "E5JNM91hsNa1",
        "outputId": "00b2ec0d-b157-4ec0-fd61-ae33a29e9b3c"
      },
      "execution_count": null,
      "outputs": [
        {
          "output_type": "stream",
          "name": "stdout",
          "text": [
            "6\n"
          ]
        }
      ]
    },
    {
      "cell_type": "code",
      "source": [],
      "metadata": {
        "id": "3eB4FhL3sUCo"
      },
      "execution_count": null,
      "outputs": []
    },
    {
      "cell_type": "code",
      "source": [],
      "metadata": {
        "id": "SrpLIbSYsUxd"
      },
      "execution_count": null,
      "outputs": []
    },
    {
      "cell_type": "code",
      "source": [
        "#  Ques 4 What is the purpose of ‘return’ statement in functions:\n",
        "# Returning Values\n",
        "\n",
        "def add(a, b):\n",
        "    return a + b\n",
        "\n",
        "# Calling the function\n",
        "result = add(3, 5)\n",
        "print(result)"
      ],
      "metadata": {
        "colab": {
          "base_uri": "https://localhost:8080/"
        },
        "id": "6RqY_ObpsVdN",
        "outputId": "a1577342-eab3-4b91-fedd-525d7c168490"
      },
      "execution_count": null,
      "outputs": [
        {
          "output_type": "stream",
          "name": "stdout",
          "text": [
            "8\n"
          ]
        }
      ]
    },
    {
      "cell_type": "code",
      "source": [
        "# Exiting the Function\n",
        "def check_even(num):\n",
        "    if num % 2 == 0:\n",
        "        return True\n",
        "    return False\n",
        "\n",
        "print(check_even(4))\n",
        "print(check_even(5))"
      ],
      "metadata": {
        "colab": {
          "base_uri": "https://localhost:8080/"
        },
        "id": "WG88Uxdysz-2",
        "outputId": "c442d629-38c9-43af-f739-fbc66d392724"
      },
      "execution_count": null,
      "outputs": [
        {
          "output_type": "stream",
          "name": "stdout",
          "text": [
            "True\n",
            "False\n"
          ]
        }
      ]
    },
    {
      "cell_type": "code",
      "source": [
        "# Returning Multiple Values\n",
        "def get_coordinates():\n",
        "    return (10, 20)\n",
        "\n",
        "x, y = get_coordinates()\n",
        "print(f\"x: {x}, y: {y}\")"
      ],
      "metadata": {
        "colab": {
          "base_uri": "https://localhost:8080/"
        },
        "id": "mFwg6lG4svBN",
        "outputId": "48c64ed2-fe11-415b-84a1-0cd555b2686b"
      },
      "execution_count": null,
      "outputs": [
        {
          "output_type": "stream",
          "name": "stdout",
          "text": [
            "x: 10, y: 20\n"
          ]
        }
      ]
    },
    {
      "cell_type": "code",
      "source": [],
      "metadata": {
        "id": "2Ur30B8-tLsK"
      },
      "execution_count": null,
      "outputs": []
    },
    {
      "cell_type": "code",
      "source": [],
      "metadata": {
        "id": "yM7dm7r1tTAC"
      },
      "execution_count": null,
      "outputs": []
    },
    {
      "cell_type": "code",
      "source": [
        "# Ques:-5 What are  iterators in Python and how do they differ from iterables.\n",
        "# Example of an Iterable\n",
        "my_list = [1, 2, 3]\n",
        "\n",
        "# Looping through an iterable\n",
        "for item in my_list:\n",
        "    print(item)\n",
        "\n",
        "\n"
      ],
      "metadata": {
        "colab": {
          "base_uri": "https://localhost:8080/"
        },
        "id": "oD4ElFrItTOU",
        "outputId": "ecacdcb1-493b-4902-fcd5-199833336ccc"
      },
      "execution_count": null,
      "outputs": [
        {
          "output_type": "stream",
          "name": "stdout",
          "text": [
            "1\n",
            "2\n",
            "3\n"
          ]
        }
      ]
    },
    {
      "cell_type": "code",
      "source": [
        "# Example of an Iterator\n",
        "my_iterator = iter(my_list)\n",
        "\n",
        "# Iterating through an iterator\n",
        "print(next(my_iterator))\n",
        "print(next(my_iterator))\n",
        "print(next(my_iterator))\n",
        "\n",
        "# Uncommenting the next line will raise StopIteration\n",
        "# print(next(iterator))"
      ],
      "metadata": {
        "colab": {
          "base_uri": "https://localhost:8080/"
        },
        "id": "2dWGfo4AtZle",
        "outputId": "3470b4a6-02a6-48c8-8665-984f9689afce"
      },
      "execution_count": null,
      "outputs": [
        {
          "output_type": "stream",
          "name": "stdout",
          "text": [
            "1\n",
            "2\n",
            "3\n"
          ]
        }
      ]
    },
    {
      "cell_type": "code",
      "source": [],
      "metadata": {
        "id": "P0WrdN6vtivJ"
      },
      "execution_count": null,
      "outputs": []
    },
    {
      "cell_type": "code",
      "source": [
        "# Ques 6: Explain the concepts of generators in Python and how they are defined.\n",
        "\n",
        "def count_up_to(max):\n",
        "    count = 1\n",
        "    while count <= max:\n",
        "        yield count  # Yield the current count\n",
        "        count += 1   # Increment the count\n",
        "\n",
        "# Using the generator\n",
        "counter = count_up_to(5)\n",
        "\n",
        "for number in counter:\n",
        "    print(number)\n"
      ],
      "metadata": {
        "colab": {
          "base_uri": "https://localhost:8080/"
        },
        "id": "jjSbqxeftrWZ",
        "outputId": "81b89827-692b-40cc-a9d4-10dbd89e603b"
      },
      "execution_count": null,
      "outputs": [
        {
          "output_type": "stream",
          "name": "stdout",
          "text": [
            "1\n",
            "2\n",
            "3\n",
            "4\n",
            "5\n"
          ]
        }
      ]
    },
    {
      "cell_type": "code",
      "source": [],
      "metadata": {
        "id": "bwUAxKlDtwI9"
      },
      "execution_count": null,
      "outputs": []
    },
    {
      "cell_type": "code",
      "source": [],
      "metadata": {
        "id": "HJBIOIVft1UE"
      },
      "execution_count": null,
      "outputs": []
    },
    {
      "cell_type": "code",
      "source": [
        "# Ques 7  What are the advantages of generators functions over Regular Functions:\n",
        "# Memory Efficiency\n",
        "\n",
        "def large_sequence(n):\n",
        "    for i in range(n):\n",
        "        yield i  # Generates one number at a time\n",
        "\n",
        "gen = large_sequence(1000000)  # Uses minimal memory compared to a list\n"
      ],
      "metadata": {
        "id": "AothKkMot1qd"
      },
      "execution_count": null,
      "outputs": []
    },
    {
      "cell_type": "code",
      "source": [
        "gen"
      ],
      "metadata": {
        "colab": {
          "base_uri": "https://localhost:8080/"
        },
        "id": "wE9s5kw0uDJ9",
        "outputId": "4cfed725-36de-4d53-e176-b322fbf2149d"
      },
      "execution_count": null,
      "outputs": [
        {
          "output_type": "execute_result",
          "data": {
            "text/plain": [
              "<generator object large_sequence at 0x79773ad0dd20>"
            ]
          },
          "metadata": {},
          "execution_count": 28
        }
      ]
    },
    {
      "cell_type": "code",
      "source": [
        "# Simplicity of Code\n",
        "def countdown(n):\n",
        "    while n > 0:\n",
        "        yield n\n",
        "        n -= 1  # No need to track state externally\n",
        "\n",
        "for num in countdown(5):\n",
        "    print(num)\n",
        "\n",
        "\n",
        "\n"
      ],
      "metadata": {
        "colab": {
          "base_uri": "https://localhost:8080/"
        },
        "id": "8xkcBSmMuIWs",
        "outputId": "905ab318-7412-45e9-f0fe-0352ecf7ccf9"
      },
      "execution_count": null,
      "outputs": [
        {
          "output_type": "stream",
          "name": "stdout",
          "text": [
            "5\n",
            "4\n",
            "3\n",
            "2\n",
            "1\n"
          ]
        }
      ]
    },
    {
      "cell_type": "code",
      "source": [
        "# Infinite Sequences\n",
        "def infinite_fibonacci():\n",
        "    a, b = 0, 1\n",
        "    while True:\n",
        "        yield a\n",
        "        a, b = b, a + b\n",
        "\n",
        "# Print the first 10 Fibonacci numbers\n",
        "fib = infinite_fibonacci()\n",
        "for _ in range(10):\n",
        "    print(next(fib))  # Outputs the Fibonacci sequence\n",
        "\n",
        "\n"
      ],
      "metadata": {
        "colab": {
          "base_uri": "https://localhost:8080/"
        },
        "id": "qVsiybY2uWBd",
        "outputId": "04d232cf-398e-48cc-c8df-ca259dc45db1"
      },
      "execution_count": null,
      "outputs": [
        {
          "output_type": "stream",
          "name": "stdout",
          "text": [
            "0\n",
            "1\n",
            "1\n",
            "2\n",
            "3\n",
            "5\n",
            "8\n",
            "13\n",
            "21\n",
            "34\n"
          ]
        }
      ]
    },
    {
      "cell_type": "code",
      "source": [],
      "metadata": {
        "id": "jhFn1wygu3kv"
      },
      "execution_count": null,
      "outputs": []
    },
    {
      "cell_type": "code",
      "source": [],
      "metadata": {
        "id": "v9WPwq1fvHZz"
      },
      "execution_count": null,
      "outputs": []
    },
    {
      "cell_type": "code",
      "source": [
        "# Ques 8 What is the lambda function in Python and when is it typically used?\n",
        "# Example\n",
        "add = lambda x, y: x + y\n",
        "print(add(3, 5))\n"
      ],
      "metadata": {
        "colab": {
          "base_uri": "https://localhost:8080/"
        },
        "id": "uVOiMU97vHtE",
        "outputId": "081189b0-7d43-410d-8355-9bbe6f42ad8a"
      },
      "execution_count": null,
      "outputs": [
        {
          "output_type": "stream",
          "name": "stdout",
          "text": [
            "8\n"
          ]
        }
      ]
    },
    {
      "cell_type": "code",
      "source": [
        "# Use Cases for Lambda Functions\n",
        "# Short Function\n",
        "numbers = [1, 2, 3, 4, 5]\n",
        "squared = list(map(lambda x: x ** 2, numbers))\n",
        "print(squared)\n"
      ],
      "metadata": {
        "colab": {
          "base_uri": "https://localhost:8080/"
        },
        "id": "PDyTnj67vtF3",
        "outputId": "42cca4c8-697f-4df5-bf2f-2987364224f4"
      },
      "execution_count": null,
      "outputs": [
        {
          "output_type": "stream",
          "name": "stdout",
          "text": [
            "[1, 4, 9, 16, 25]\n"
          ]
        }
      ]
    },
    {
      "cell_type": "code",
      "source": [
        "# Higher-Order Functions\n",
        "numbers = [1, 2, 3, 4, 5]\n",
        "even_numbers = list(filter(lambda x: x % 2 == 0, numbers))\n",
        "print(even_numbers)\n"
      ],
      "metadata": {
        "colab": {
          "base_uri": "https://localhost:8080/"
        },
        "id": "N5mYBQ77v10a",
        "outputId": "e6a21959-69fb-41e5-f862-c4a4b7fb691d"
      },
      "execution_count": null,
      "outputs": [
        {
          "output_type": "stream",
          "name": "stdout",
          "text": [
            "[2, 4]\n"
          ]
        }
      ]
    },
    {
      "cell_type": "code",
      "source": [],
      "metadata": {
        "id": "BpIApViZwGSw"
      },
      "execution_count": null,
      "outputs": []
    },
    {
      "cell_type": "code",
      "source": [],
      "metadata": {
        "id": "8eF54yZUwLiN"
      },
      "execution_count": null,
      "outputs": []
    },
    {
      "cell_type": "code",
      "source": [
        "# Ques 9 Explain the purpose and uses of map function in Python\n",
        "# Basic Transformation\n",
        "numbers = [1, 2, 3, 4, 5]\n",
        "squared = map(lambda x: x ** 2, numbers)\n",
        "print(list(squared))\n",
        "\n"
      ],
      "metadata": {
        "colab": {
          "base_uri": "https://localhost:8080/"
        },
        "id": "yc-O_SRSwLv_",
        "outputId": "bdb8ed0f-c5e8-4833-e042-f393330313fb"
      },
      "execution_count": null,
      "outputs": [
        {
          "output_type": "stream",
          "name": "stdout",
          "text": [
            "[1, 4, 9, 16, 25]\n"
          ]
        }
      ]
    },
    {
      "cell_type": "code",
      "source": [
        "# Converting Data Types\n",
        "\n",
        "string_numbers = ['1', '2', '3']\n",
        "int_numbers = map(int, string_numbers)\n",
        "print(list(int_numbers))\n"
      ],
      "metadata": {
        "colab": {
          "base_uri": "https://localhost:8080/"
        },
        "id": "G1lhScCxwXMu",
        "outputId": "55dcaf2e-19b2-412b-b82e-019e11a6852b"
      },
      "execution_count": null,
      "outputs": [
        {
          "output_type": "stream",
          "name": "stdout",
          "text": [
            "[1, 2, 3]\n"
          ]
        }
      ]
    },
    {
      "cell_type": "code",
      "source": [
        "# Complex Functions Using a defined function instead of a lambda\n",
        "def add_one(x):\n",
        "    return x + 1\n",
        "\n",
        "numbers = [1, 2, 3, 4, 5]\n",
        "incremented = map(add_one, numbers)\n",
        "print(list(incremented))\n"
      ],
      "metadata": {
        "colab": {
          "base_uri": "https://localhost:8080/"
        },
        "id": "ihZbaYjgwoJL",
        "outputId": "141e2b72-dbe6-4f2a-ac5a-3f201d12df51"
      },
      "execution_count": null,
      "outputs": [
        {
          "output_type": "stream",
          "name": "stdout",
          "text": [
            "[2, 3, 4, 5, 6]\n"
          ]
        }
      ]
    },
    {
      "cell_type": "code",
      "source": [],
      "metadata": {
        "id": "4hHX15lGwvnw"
      },
      "execution_count": null,
      "outputs": []
    },
    {
      "cell_type": "code",
      "source": [],
      "metadata": {
        "id": "cyfkDJI3w6Le"
      },
      "execution_count": null,
      "outputs": []
    },
    {
      "cell_type": "code",
      "source": [
        "# Ques 10  What is the difference between ‘map()’, ‘reduce()’, ‘filter()’ functions in Python.\n",
        "\n",
        "# Map\n",
        "numbers = [1, 2, 3]\n",
        "squared = map(lambda x: x ** 2, numbers)\n",
        "print(list(squared))\n",
        "\n"
      ],
      "metadata": {
        "colab": {
          "base_uri": "https://localhost:8080/"
        },
        "id": "FLA7ZKeIw6kV",
        "outputId": "df0a3be1-3b80-406f-b38a-8ab42b8cf2ba"
      },
      "execution_count": null,
      "outputs": [
        {
          "output_type": "stream",
          "name": "stdout",
          "text": [
            "[1, 4, 9]\n"
          ]
        }
      ]
    },
    {
      "cell_type": "code",
      "source": [
        "# Filter\n",
        "numbers = [1, 2, 3, 4, 5]\n",
        "even_numbers = filter(lambda x: x % 2 == 0, numbers)\n",
        "print(list(even_numbers))"
      ],
      "metadata": {
        "colab": {
          "base_uri": "https://localhost:8080/"
        },
        "id": "AAa3gqG0xHj5",
        "outputId": "dab98510-2e8a-48e4-f9a5-893090f6d768"
      },
      "execution_count": null,
      "outputs": [
        {
          "output_type": "stream",
          "name": "stdout",
          "text": [
            "[2, 4]\n"
          ]
        }
      ]
    },
    {
      "cell_type": "code",
      "source": [
        "# Reduce\n",
        "\n",
        "from functools import reduce\n",
        "\n",
        "numbers = [1, 2, 3, 4, 5]\n",
        "product = reduce(lambda x, y: x * y, numbers)\n",
        "print(product)"
      ],
      "metadata": {
        "colab": {
          "base_uri": "https://localhost:8080/"
        },
        "id": "ky_56x1nxLln",
        "outputId": "bb4837ea-fbd6-4ca1-e492-c875b1146e74"
      },
      "execution_count": null,
      "outputs": [
        {
          "output_type": "stream",
          "name": "stdout",
          "text": [
            "120\n"
          ]
        }
      ]
    },
    {
      "cell_type": "code",
      "source": [
        "from functools import reduce\n",
        "\n",
        "numbers = [1, 2, 3, 4]\n",
        "result = reduce(lambda x, y: x + y, numbers)\n",
        "print(result)\n"
      ],
      "metadata": {
        "colab": {
          "base_uri": "https://localhost:8080/"
        },
        "id": "4Zdn92hnxPBw",
        "outputId": "ccaa51b1-7604-4acd-fd5f-bebee05919ff"
      },
      "execution_count": null,
      "outputs": [
        {
          "output_type": "stream",
          "name": "stdout",
          "text": [
            "10\n"
          ]
        }
      ]
    },
    {
      "cell_type": "code",
      "source": [],
      "metadata": {
        "id": "QUhZqcmCx7wH"
      },
      "execution_count": null,
      "outputs": []
    },
    {
      "cell_type": "code",
      "source": [],
      "metadata": {
        "id": "H4f1AA_6WJ_p"
      },
      "execution_count": null,
      "outputs": []
    },
    {
      "cell_type": "code",
      "source": [
        "\n",
        "# Ques 11 Using pen & Paper write the internal mechanism for sum operation using  reduce function on this given\n",
        "# list:[47,11,42,13]\n",
        "\n",
        "from functools import reduce\n",
        "\n",
        "# Step 2: Define the addition function\n",
        "def add(x, y):\n",
        "    return x + y\n",
        "\n",
        "# Step 3: Apply reduce\n",
        "result = reduce(add, [47, 11, 42, 13])\n",
        "\n",
        "print(result)\n"
      ],
      "metadata": {
        "colab": {
          "base_uri": "https://localhost:8080/"
        },
        "id": "nXSiHHVdWKlg",
        "outputId": "7e4372b4-3861-446d-d505-4848d2dbfd62"
      },
      "execution_count": null,
      "outputs": [
        {
          "output_type": "stream",
          "name": "stdout",
          "text": [
            "113\n"
          ]
        }
      ]
    },
    {
      "cell_type": "code",
      "source": [],
      "metadata": {
        "id": "aFpy0Nj0e9im"
      },
      "execution_count": null,
      "outputs": []
    },
    {
      "cell_type": "code",
      "source": [],
      "metadata": {
        "id": "oN6CxblVe9ww"
      },
      "execution_count": null,
      "outputs": []
    },
    {
      "cell_type": "code",
      "source": [
        "# Practical Questions)\n",
        "# Practical Questions)\n",
        "# Practical Questions)\n"
      ],
      "metadata": {
        "id": "IoiA9cIuxR_X"
      },
      "execution_count": null,
      "outputs": []
    },
    {
      "cell_type": "code",
      "source": [
        "# Ques1:  Write a Python function that takes a list of numbers as input and returns the sum of all even numbers in the list.\n",
        "\n",
        "def sum_of_even_numbers(numbers):\n",
        "    # Use a list comprehension to filter even numbers and sum them\n",
        "    even_sum = sum(num for num in numbers if num % 2 == 0)\n",
        "    return even_sum\n",
        "\n"
      ],
      "metadata": {
        "id": "EaS-2U5cyEzK"
      },
      "execution_count": null,
      "outputs": []
    },
    {
      "cell_type": "code",
      "source": [
        "# Example list of numbers\n",
        "numbers = [1, 2, 3, 4, 5, 6, 7, 8, 9, 10]\n",
        "\n",
        "# Call the function and print the result\n",
        "result = sum_of_even_numbers(numbers)\n",
        "print(result)"
      ],
      "metadata": {
        "colab": {
          "base_uri": "https://localhost:8080/"
        },
        "id": "uqYmXUTjyNC-",
        "outputId": "48232007-f6cd-447e-e30b-1b46699511a8"
      },
      "execution_count": null,
      "outputs": [
        {
          "output_type": "stream",
          "name": "stdout",
          "text": [
            "30\n"
          ]
        }
      ]
    },
    {
      "cell_type": "code",
      "source": [
        "def sum_of_even_numbers(numbers):\n",
        "    # Use a generator expression to filter even numbers and sum them\n",
        "    even_sum = sum(num for num in numbers if num % 2 == 0)\n",
        "    return even_sum\n",
        "\n",
        "# Example usage\n",
        "numbers = [1, 2, 3, 4, 5, 6, 7, 8, 9, 10]\n",
        "result = sum_of_even_numbers(numbers)\n",
        "print(result)  # Output: 30 (2 + 4 + 6 + 8 + 10)\n"
      ],
      "metadata": {
        "colab": {
          "base_uri": "https://localhost:8080/"
        },
        "id": "pN4erI3_y2XP",
        "outputId": "afa18eb4-c70b-450b-ba71-3c0ecf8cb3db"
      },
      "execution_count": null,
      "outputs": [
        {
          "output_type": "stream",
          "name": "stdout",
          "text": [
            "30\n"
          ]
        }
      ]
    },
    {
      "cell_type": "code",
      "source": [
        "# Additional Test Cases\n",
        "print(sum_of_even_numbers([0, 1, 2, 3, 4]))\n",
        "print(sum_of_even_numbers([5, 7, 9]))\n",
        "print(sum_of_even_numbers([-2, -4, 3, 5, 6]))\n",
        "print(sum_of_even_numbers([10, 15, 20, 25, 30]))\n"
      ],
      "metadata": {
        "colab": {
          "base_uri": "https://localhost:8080/"
        },
        "id": "wgKfdeaky5fU",
        "outputId": "58a73bff-1979-4586-da7d-6d93bf561e52"
      },
      "execution_count": null,
      "outputs": [
        {
          "output_type": "stream",
          "name": "stdout",
          "text": [
            "6\n",
            "0\n",
            "0\n",
            "60\n"
          ]
        }
      ]
    },
    {
      "cell_type": "code",
      "source": [],
      "metadata": {
        "id": "GRlIG6n_zBzi"
      },
      "execution_count": null,
      "outputs": []
    },
    {
      "cell_type": "code",
      "source": [],
      "metadata": {
        "id": "23WBD6plLWdB"
      },
      "execution_count": null,
      "outputs": []
    },
    {
      "cell_type": "code",
      "source": [
        "# Ques 2 Create a Python function that accepts a string and returns the reverse of that string.\n",
        "\n",
        "def reverse_string(input_string):\n",
        "    return input_string[::-1]  # Slicing to reverse the string\n",
        "# Example string\n",
        "original_string = \"Hello, World!\"\n",
        "\n",
        "# Call the function and print the result\n",
        "reversed_string = reverse_string(original_string)\n",
        "print(reversed_string)  # Output: !dlroW ,olleH\n"
      ],
      "metadata": {
        "colab": {
          "base_uri": "https://localhost:8080/"
        },
        "id": "4sQ1tBIZLWoh",
        "outputId": "a332700d-ad5a-49c4-ee3c-5b119b2b64eb"
      },
      "execution_count": null,
      "outputs": [
        {
          "output_type": "stream",
          "name": "stdout",
          "text": [
            "!dlroW ,olleH\n"
          ]
        }
      ]
    },
    {
      "cell_type": "code",
      "source": [
        "# Additional Test Cases\n",
        "print(reverse_string(\"Python\"))\n",
        "print(reverse_string(\"OpenAI\"))\n",
        "print(reverse_string(\"12345\"))\n",
        "print(reverse_string(\"\"))"
      ],
      "metadata": {
        "colab": {
          "base_uri": "https://localhost:8080/"
        },
        "id": "gVKvESI2Lfco",
        "outputId": "6b348300-b518-430b-e516-f7acb37945cf"
      },
      "execution_count": null,
      "outputs": [
        {
          "output_type": "stream",
          "name": "stdout",
          "text": [
            "nohtyP\n",
            "IAnepO\n",
            "54321\n",
            "\n"
          ]
        }
      ]
    },
    {
      "cell_type": "code",
      "source": [],
      "metadata": {
        "id": "AhoY7j5lLlme"
      },
      "execution_count": null,
      "outputs": []
    },
    {
      "cell_type": "code",
      "source": [
        "# Ques 3 Implement a Python function that takes a list of integers and returns a new list containing the squares of each number.\n",
        "\n",
        "def square_numbers(numbers):\n",
        "    # Use a list comprehension to compute the squares\n",
        "    return [num ** 2 for num in numbers]\n",
        "\n",
        "# Example list of integers\n",
        "numbers = [1, 2, 3, 4, 5]\n",
        "\n",
        "# Call the function and print the result\n",
        "squared_numbers = square_numbers(numbers)\n",
        "print(squared_numbers)  # Output: [1, 4, 9, 16, 25]\n"
      ],
      "metadata": {
        "colab": {
          "base_uri": "https://localhost:8080/"
        },
        "id": "coB0oiZPLuO_",
        "outputId": "6e454d39-112d-442d-fcb4-284312324fc6"
      },
      "execution_count": null,
      "outputs": [
        {
          "output_type": "stream",
          "name": "stdout",
          "text": [
            "[1, 4, 9, 16, 25]\n"
          ]
        }
      ]
    },
    {
      "cell_type": "code",
      "source": [
        "# # Additional Test Cases\n",
        "print(square_numbers([0, 1, 2]))\n",
        "print(square_numbers([-1, -2, -3]))\n",
        "print(square_numbers([10, 20, 30]))\n"
      ],
      "metadata": {
        "colab": {
          "base_uri": "https://localhost:8080/"
        },
        "id": "Uo-d8U3RL4I5",
        "outputId": "35f1c19b-6990-4425-9b4d-48af72761da7"
      },
      "execution_count": null,
      "outputs": [
        {
          "output_type": "stream",
          "name": "stdout",
          "text": [
            "[0, 1, 4]\n",
            "[1, 4, 9]\n",
            "[100, 400, 900]\n"
          ]
        }
      ]
    },
    {
      "cell_type": "code",
      "source": [],
      "metadata": {
        "id": "GMq5XAIEL9aQ"
      },
      "execution_count": null,
      "outputs": []
    },
    {
      "cell_type": "code",
      "source": [
        "# Ques 4 Write a Python function that checks if a given number is prime or not from 1 to 200"
      ],
      "metadata": {
        "id": "NWDcHaeNL-Qx"
      },
      "execution_count": null,
      "outputs": []
    },
    {
      "cell_type": "code",
      "source": [
        "def is_prime(n):\n",
        "    if n <= 1:\n",
        "        return False\n",
        "    for i in range(2, int(n**0.5) + 1):\n",
        "        if n % i == 0:\n",
        "            return False\n",
        "    return True\n",
        "\n",
        "# Check numbers from 1 to 200\n",
        "for number in range(1, 201):\n",
        "    if is_prime(number):\n",
        "        print(f\"{number} is prime.\")\n",
        "    else:\n",
        "        print(f\"{number} is not prime.\")\n",
        "\n"
      ],
      "metadata": {
        "colab": {
          "base_uri": "https://localhost:8080/"
        },
        "id": "3LF78oCaL-UH",
        "outputId": "dbcdebb3-d463-4414-fad5-0f10774033a0"
      },
      "execution_count": null,
      "outputs": [
        {
          "output_type": "stream",
          "name": "stdout",
          "text": [
            "1 is not prime.\n",
            "2 is prime.\n",
            "3 is prime.\n",
            "4 is not prime.\n",
            "5 is prime.\n",
            "6 is not prime.\n",
            "7 is prime.\n",
            "8 is not prime.\n",
            "9 is not prime.\n",
            "10 is not prime.\n",
            "11 is prime.\n",
            "12 is not prime.\n",
            "13 is prime.\n",
            "14 is not prime.\n",
            "15 is not prime.\n",
            "16 is not prime.\n",
            "17 is prime.\n",
            "18 is not prime.\n",
            "19 is prime.\n",
            "20 is not prime.\n",
            "21 is not prime.\n",
            "22 is not prime.\n",
            "23 is prime.\n",
            "24 is not prime.\n",
            "25 is not prime.\n",
            "26 is not prime.\n",
            "27 is not prime.\n",
            "28 is not prime.\n",
            "29 is prime.\n",
            "30 is not prime.\n",
            "31 is prime.\n",
            "32 is not prime.\n",
            "33 is not prime.\n",
            "34 is not prime.\n",
            "35 is not prime.\n",
            "36 is not prime.\n",
            "37 is prime.\n",
            "38 is not prime.\n",
            "39 is not prime.\n",
            "40 is not prime.\n",
            "41 is prime.\n",
            "42 is not prime.\n",
            "43 is prime.\n",
            "44 is not prime.\n",
            "45 is not prime.\n",
            "46 is not prime.\n",
            "47 is prime.\n",
            "48 is not prime.\n",
            "49 is not prime.\n",
            "50 is not prime.\n",
            "51 is not prime.\n",
            "52 is not prime.\n",
            "53 is prime.\n",
            "54 is not prime.\n",
            "55 is not prime.\n",
            "56 is not prime.\n",
            "57 is not prime.\n",
            "58 is not prime.\n",
            "59 is prime.\n",
            "60 is not prime.\n",
            "61 is prime.\n",
            "62 is not prime.\n",
            "63 is not prime.\n",
            "64 is not prime.\n",
            "65 is not prime.\n",
            "66 is not prime.\n",
            "67 is prime.\n",
            "68 is not prime.\n",
            "69 is not prime.\n",
            "70 is not prime.\n",
            "71 is prime.\n",
            "72 is not prime.\n",
            "73 is prime.\n",
            "74 is not prime.\n",
            "75 is not prime.\n",
            "76 is not prime.\n",
            "77 is not prime.\n",
            "78 is not prime.\n",
            "79 is prime.\n",
            "80 is not prime.\n",
            "81 is not prime.\n",
            "82 is not prime.\n",
            "83 is prime.\n",
            "84 is not prime.\n",
            "85 is not prime.\n",
            "86 is not prime.\n",
            "87 is not prime.\n",
            "88 is not prime.\n",
            "89 is prime.\n",
            "90 is not prime.\n",
            "91 is not prime.\n",
            "92 is not prime.\n",
            "93 is not prime.\n",
            "94 is not prime.\n",
            "95 is not prime.\n",
            "96 is not prime.\n",
            "97 is prime.\n",
            "98 is not prime.\n",
            "99 is not prime.\n",
            "100 is not prime.\n",
            "101 is prime.\n",
            "102 is not prime.\n",
            "103 is prime.\n",
            "104 is not prime.\n",
            "105 is not prime.\n",
            "106 is not prime.\n",
            "107 is prime.\n",
            "108 is not prime.\n",
            "109 is prime.\n",
            "110 is not prime.\n",
            "111 is not prime.\n",
            "112 is not prime.\n",
            "113 is prime.\n",
            "114 is not prime.\n",
            "115 is not prime.\n",
            "116 is not prime.\n",
            "117 is not prime.\n",
            "118 is not prime.\n",
            "119 is not prime.\n",
            "120 is not prime.\n",
            "121 is not prime.\n",
            "122 is not prime.\n",
            "123 is not prime.\n",
            "124 is not prime.\n",
            "125 is not prime.\n",
            "126 is not prime.\n",
            "127 is prime.\n",
            "128 is not prime.\n",
            "129 is not prime.\n",
            "130 is not prime.\n",
            "131 is prime.\n",
            "132 is not prime.\n",
            "133 is not prime.\n",
            "134 is not prime.\n",
            "135 is not prime.\n",
            "136 is not prime.\n",
            "137 is prime.\n",
            "138 is not prime.\n",
            "139 is prime.\n",
            "140 is not prime.\n",
            "141 is not prime.\n",
            "142 is not prime.\n",
            "143 is not prime.\n",
            "144 is not prime.\n",
            "145 is not prime.\n",
            "146 is not prime.\n",
            "147 is not prime.\n",
            "148 is not prime.\n",
            "149 is prime.\n",
            "150 is not prime.\n",
            "151 is prime.\n",
            "152 is not prime.\n",
            "153 is not prime.\n",
            "154 is not prime.\n",
            "155 is not prime.\n",
            "156 is not prime.\n",
            "157 is prime.\n",
            "158 is not prime.\n",
            "159 is not prime.\n",
            "160 is not prime.\n",
            "161 is not prime.\n",
            "162 is not prime.\n",
            "163 is prime.\n",
            "164 is not prime.\n",
            "165 is not prime.\n",
            "166 is not prime.\n",
            "167 is prime.\n",
            "168 is not prime.\n",
            "169 is not prime.\n",
            "170 is not prime.\n",
            "171 is not prime.\n",
            "172 is not prime.\n",
            "173 is prime.\n",
            "174 is not prime.\n",
            "175 is not prime.\n",
            "176 is not prime.\n",
            "177 is not prime.\n",
            "178 is not prime.\n",
            "179 is prime.\n",
            "180 is not prime.\n",
            "181 is prime.\n",
            "182 is not prime.\n",
            "183 is not prime.\n",
            "184 is not prime.\n",
            "185 is not prime.\n",
            "186 is not prime.\n",
            "187 is not prime.\n",
            "188 is not prime.\n",
            "189 is not prime.\n",
            "190 is not prime.\n",
            "191 is prime.\n",
            "192 is not prime.\n",
            "193 is prime.\n",
            "194 is not prime.\n",
            "195 is not prime.\n",
            "196 is not prime.\n",
            "197 is prime.\n",
            "198 is not prime.\n",
            "199 is prime.\n",
            "200 is not prime.\n"
          ]
        }
      ]
    },
    {
      "cell_type": "code",
      "source": [
        "def is_prime(n):\n",
        "    \"\"\"Check if a number is prime.\"\"\"\n",
        "    if n <= 1:\n",
        "        return False\n",
        "    for i in range(2, int(n**0.5) + 1):\n",
        "        if n % i == 0:\n",
        "            return False\n",
        "    return True\n",
        "\n",
        "# Example usage\n",
        "for number in range(1, 201):\n",
        "    if is_prime(number):\n",
        "        print(f\"{number} is prime\")"
      ],
      "metadata": {
        "colab": {
          "base_uri": "https://localhost:8080/"
        },
        "id": "K153MoBsMQk6",
        "outputId": "e92710d1-276f-4f5a-ff8f-8e66dac960b2"
      },
      "execution_count": null,
      "outputs": [
        {
          "output_type": "stream",
          "name": "stdout",
          "text": [
            "2 is prime\n",
            "3 is prime\n",
            "5 is prime\n",
            "7 is prime\n",
            "11 is prime\n",
            "13 is prime\n",
            "17 is prime\n",
            "19 is prime\n",
            "23 is prime\n",
            "29 is prime\n",
            "31 is prime\n",
            "37 is prime\n",
            "41 is prime\n",
            "43 is prime\n",
            "47 is prime\n",
            "53 is prime\n",
            "59 is prime\n",
            "61 is prime\n",
            "67 is prime\n",
            "71 is prime\n",
            "73 is prime\n",
            "79 is prime\n",
            "83 is prime\n",
            "89 is prime\n",
            "97 is prime\n",
            "101 is prime\n",
            "103 is prime\n",
            "107 is prime\n",
            "109 is prime\n",
            "113 is prime\n",
            "127 is prime\n",
            "131 is prime\n",
            "137 is prime\n",
            "139 is prime\n",
            "149 is prime\n",
            "151 is prime\n",
            "157 is prime\n",
            "163 is prime\n",
            "167 is prime\n",
            "173 is prime\n",
            "179 is prime\n",
            "181 is prime\n",
            "191 is prime\n",
            "193 is prime\n",
            "197 is prime\n",
            "199 is prime\n"
          ]
        }
      ]
    },
    {
      "cell_type": "code",
      "source": [],
      "metadata": {
        "id": "SDV_J-EhMa1o"
      },
      "execution_count": null,
      "outputs": []
    },
    {
      "cell_type": "code",
      "source": [],
      "metadata": {
        "id": "1xGNTVdBM6gy"
      },
      "execution_count": null,
      "outputs": []
    },
    {
      "cell_type": "code",
      "source": [
        "# Ques 5 Create an iterator class in Python that generates the Fibonacci sequence up to a specified number of term\n",
        "class FibonacciIterator:\n",
        "    def __init__(self, terms):\n",
        "        self.terms = terms\n",
        "        self.count = 0\n",
        "        self.a, self.b = 0, 1\n",
        "\n",
        "    def __iter__(self):\n",
        "        return self\n",
        "\n",
        "    def __next__(self):\n",
        "        if self.count < self.terms:\n",
        "            if self.count == 0:\n",
        "                self.count += 1\n",
        "                return self.a\n",
        "            elif self.count == 1:\n",
        "                self.count += 1\n",
        "                return self.b\n",
        "            else:\n",
        "                self.a, self.b = self.b, self.a + self.b\n",
        "                self.count += 1\n",
        "                return self.b\n",
        "        else:\n",
        "            raise StopIteration\n",
        "\n",
        "# Example usage\n",
        "fib = FibonacciIterator(10)\n",
        "for number in fib:\n",
        "    print(number)\n"
      ],
      "metadata": {
        "colab": {
          "base_uri": "https://localhost:8080/"
        },
        "id": "2DtJHAZnM6wC",
        "outputId": "6b91c5b6-71dc-431f-b289-e69707d8c5c7"
      },
      "execution_count": null,
      "outputs": [
        {
          "output_type": "stream",
          "name": "stdout",
          "text": [
            "0\n",
            "1\n",
            "1\n",
            "2\n",
            "3\n",
            "5\n",
            "8\n",
            "13\n",
            "21\n",
            "34\n"
          ]
        }
      ]
    },
    {
      "cell_type": "code",
      "source": [],
      "metadata": {
        "id": "J5CXZqPDNEUX"
      },
      "execution_count": null,
      "outputs": []
    },
    {
      "cell_type": "code",
      "source": [
        "# Ques 6  Write a generator function in Python that yields the powers of 2 up to a given exponent.\n",
        "\n",
        "def powers_of_two(exponent):\n",
        "    \"\"\"Generator that yields powers of 2 up to the given exponent.\"\"\"\n",
        "    for i in range(exponent + 1):\n",
        "        yield 2 ** i\n",
        "\n",
        "# Example usage\n",
        "for power in powers_of_two(10):\n",
        "    print(power)\n"
      ],
      "metadata": {
        "colab": {
          "base_uri": "https://localhost:8080/"
        },
        "id": "gGDhYkQuNKCi",
        "outputId": "9dc67472-2213-4be8-f37d-ac9644bbb626"
      },
      "execution_count": null,
      "outputs": [
        {
          "output_type": "stream",
          "name": "stdout",
          "text": [
            "1\n",
            "2\n",
            "4\n",
            "8\n",
            "16\n",
            "32\n",
            "64\n",
            "128\n",
            "256\n",
            "512\n",
            "1024\n"
          ]
        }
      ]
    },
    {
      "cell_type": "code",
      "source": [],
      "metadata": {
        "id": "Eol5BTMcNRLz"
      },
      "execution_count": null,
      "outputs": []
    },
    {
      "cell_type": "code",
      "source": [
        "# Ques7.  Implement a generator function that reads a file line by line and yields each line as a string.\n",
        "\n",
        "def read_file_line_by_line(file_path):\n",
        "    \"\"\"Generator that yields each line from a file.\"\"\"\n",
        "    with open(file_path, 'r') as file:\n",
        "        for line in file:\n",
        "            yield line.strip()  # Yield the line without leading/trailing whitespace\n",
        "\n",
        "# Example usage\n",
        "file_path = \"/content/sample3.txt\"  # Replace with your actual file path\n",
        "for line in read_file_line_by_line(file_path):\n",
        "    print(line)\n",
        "\n"
      ],
      "metadata": {
        "colab": {
          "base_uri": "https://localhost:8080/"
        },
        "id": "wVqHxh8INkQ3",
        "outputId": "98936726-7df5-43fa-e603-152ee2db1e00"
      },
      "execution_count": null,
      "outputs": [
        {
          "output_type": "stream",
          "name": "stdout",
          "text": [
            "My name is Pramod Singh. I'm from Gorakhpur Uttar Pradesh\n",
            "I'm from Data Analytics June English Batch\n"
          ]
        }
      ]
    },
    {
      "cell_type": "code",
      "source": [],
      "metadata": {
        "id": "vIiuEatrNqzm"
      },
      "execution_count": null,
      "outputs": []
    },
    {
      "cell_type": "code",
      "source": [],
      "metadata": {
        "id": "gP2Rbk61RKhK"
      },
      "execution_count": null,
      "outputs": []
    },
    {
      "cell_type": "code",
      "source": [
        "# Ques 8 Use a lambda function in Python to sort a list of tuples based on the second element of each tuple.\n",
        "# Sample list of tuples\n",
        "data = [(1, 'banana'), (2, 'apple'), (3, 'orange'), (4, 'grape')]\n",
        "\n",
        "# Sort the list based on the second element of each tuple\n",
        "sorted_data = sorted(data, key=lambda x: x[1])\n",
        "\n",
        "# Print the sorted list\n",
        "print(sorted_data)\n"
      ],
      "metadata": {
        "colab": {
          "base_uri": "https://localhost:8080/"
        },
        "id": "2a0bXq5LP6G2",
        "outputId": "304125d0-b790-4d38-ea22-af882611204b"
      },
      "execution_count": null,
      "outputs": [
        {
          "output_type": "stream",
          "name": "stdout",
          "text": [
            "[(2, 'apple'), (1, 'banana'), (4, 'grape'), (3, 'orange')]\n"
          ]
        }
      ]
    },
    {
      "cell_type": "code",
      "source": [],
      "metadata": {
        "id": "yRL2WhKNRQR2"
      },
      "execution_count": null,
      "outputs": []
    },
    {
      "cell_type": "code",
      "source": [],
      "metadata": {
        "id": "4Zl0IZEBRlBM"
      },
      "execution_count": null,
      "outputs": []
    },
    {
      "cell_type": "code",
      "source": [
        "# Ques 9  Write a Python program that uses `map()` to convert a list of temperatures from Celsius to Fahrenheit\n",
        "\n",
        "# List of temperatures in Celsius\n",
        "celsius_temps = [0, 20, 37, 100]\n",
        "\n",
        "# Function to convert Celsius to Fahrenheit\n",
        "def celsius_to_fahrenheit(celsius):\n",
        "    return (celsius * 9/5) + 32\n",
        "\n",
        "# Use map to convert the list of temperatures\n",
        "fahrenheit_temps = list(map(celsius_to_fahrenheit, celsius_temps))\n",
        "\n",
        "# Print the results\n",
        "print(f\"Temperatures in Celsius: {celsius_temps}\")\n",
        "print(f\"Temperatures in Fahrenheit: {fahrenheit_temps}\")\n"
      ],
      "metadata": {
        "colab": {
          "base_uri": "https://localhost:8080/"
        },
        "id": "XmpgXhGYRlmE",
        "outputId": "0fd44a9f-bb60-432f-e4da-715cd01c290e"
      },
      "execution_count": null,
      "outputs": [
        {
          "output_type": "stream",
          "name": "stdout",
          "text": [
            "Temperatures in Celsius: [0, 20, 37, 100]\n",
            "Temperatures in Fahrenheit: [32.0, 68.0, 98.6, 212.0]\n"
          ]
        }
      ]
    },
    {
      "cell_type": "code",
      "source": [],
      "metadata": {
        "id": "cz0CDHZPRtMb"
      },
      "execution_count": null,
      "outputs": []
    },
    {
      "cell_type": "code",
      "source": [],
      "metadata": {
        "id": "lMwY9muERusm"
      },
      "execution_count": null,
      "outputs": []
    },
    {
      "cell_type": "code",
      "source": [
        "# Ques 10 Create a Python program that uses `filter()` to remove all the vowels from a given string\n",
        "\n",
        "def remove_vowels(input_string):\n",
        "    # Define a set of vowels\n",
        "    vowels = set(\"aeiouAEIOU\")\n",
        "\n",
        "    # Use filter to remove vowels\n",
        "    filtered_string = ''.join(filter(lambda char: char not in vowels, input_string))\n",
        "\n",
        "    return filtered_string\n",
        "\n",
        "# Example usage\n",
        "input_string = \"Hello, World!\"\n",
        "result = remove_vowels(input_string)\n",
        "print(f\"Original string: {input_string}\")\n",
        "print(f\"String without vowels: {result}\")\n"
      ],
      "metadata": {
        "colab": {
          "base_uri": "https://localhost:8080/"
        },
        "id": "CfwO-UEdRvAS",
        "outputId": "461c6d88-dde2-4ba5-ea02-0bb9eaecf1f5"
      },
      "execution_count": null,
      "outputs": [
        {
          "output_type": "stream",
          "name": "stdout",
          "text": [
            "Original string: Hello, World!\n",
            "String without vowels: Hll, Wrld!\n"
          ]
        }
      ]
    },
    {
      "cell_type": "code",
      "source": [],
      "metadata": {
        "id": "ZUpUOzkVR_4P"
      },
      "execution_count": null,
      "outputs": []
    },
    {
      "cell_type": "code",
      "source": [],
      "metadata": {
        "id": "NmrjfLFVTgre"
      },
      "execution_count": null,
      "outputs": []
    },
    {
      "cell_type": "code",
      "source": [
        "## Ques 11\n",
        "\n",
        "# without using lambda and map\n",
        "\n",
        "# Sample order details\n",
        "book_orders = [\n",
        "    [34587, \"Learning Python, Mark Lutz\", 4, 40.95],\n",
        "    [98762, \"Programming Python, Mark Lutz\", 5, 56.80],\n",
        "    [77226, \"Head First Python, Paul Barry\", 3, 32.95],\n",
        "    [88112, \"Einführung in Python3, Bernd Klein\", 3, 24.99]\n",
        "]\n",
        "\n",
        "def calculate_order_values(orders):\n",
        "    order_values = []\n",
        "\n",
        "    for order in orders:\n",
        "        order_number = order[0]\n",
        "        quantity = order[2]\n",
        "        price_per_item = order[3]\n",
        "\n",
        "        # Calculate total value\n",
        "        total_value = quantity * price_per_item\n",
        "\n",
        "        # Apply additional charge if total value is less than 100\n",
        "        if total_value < 100:\n",
        "            total_value += 10\n",
        "\n",
        "        # Append the order number and adjusted total value as a tuple\n",
        "        order_values.append((order_number, total_value))\n",
        "\n",
        "    return order_values\n",
        "\n",
        "# Example usage\n",
        "result = calculate_order_values(book_orders)\n",
        "print(result)\n"
      ],
      "metadata": {
        "colab": {
          "base_uri": "https://localhost:8080/"
        },
        "id": "7NtDhpB_Tg6P",
        "outputId": "b581ece3-5f98-4a3e-c4a5-b32d3b0ce1f8"
      },
      "execution_count": null,
      "outputs": [
        {
          "output_type": "stream",
          "name": "stdout",
          "text": [
            "[(34587, 163.8), (98762, 284.0), (77226, 108.85000000000001), (88112, 84.97)]\n"
          ]
        }
      ]
    },
    {
      "cell_type": "code",
      "source": [
        "## Using lambda and map\n",
        "\n",
        "# Sample order details\n",
        "book_orders = [\n",
        "    [34587, \"Learning Python, Mark Lutz\", 4, 40.95],\n",
        "    [98762, \"Programming Python, Mark Lutz\", 5, 56.80],\n",
        "    [77226, \"Head First Python, Paul Barry\", 3, 32.95],\n",
        "    [88112, \"Einführung in Python3, Bernd Klein\", 3, 24.99]\n",
        "]\n",
        "\n",
        "def calculate_order_values(orders):\n",
        "    # Function to calculate total value for each order\n",
        "    def calculate_value(order):\n",
        "        order_number = order[0]\n",
        "        quantity = order[2]\n",
        "        price_per_item = order[3]\n",
        "\n",
        "        total_value = quantity * price_per_item\n",
        "\n",
        "        # Apply additional charge if total value is less than 100\n",
        "        if total_value < 100:\n",
        "            total_value += 10\n",
        "\n",
        "        return (order_number, total_value)\n",
        "\n",
        "    # Use map to apply the calculation function to each order\n",
        "    return list(map(calculate_value, orders))\n",
        "\n",
        "# Example usage\n",
        "result = calculate_order_values(book_orders)\n",
        "print(result)\n"
      ],
      "metadata": {
        "colab": {
          "base_uri": "https://localhost:8080/"
        },
        "id": "FGiirFuxTju9",
        "outputId": "2494a7fd-12a1-4033-b09e-53feb59b54e7"
      },
      "execution_count": null,
      "outputs": [
        {
          "output_type": "stream",
          "name": "stdout",
          "text": [
            "[(34587, 163.8), (98762, 284.0), (77226, 108.85000000000001), (88112, 84.97)]\n"
          ]
        }
      ]
    },
    {
      "cell_type": "code",
      "source": [],
      "metadata": {
        "id": "ms8bky_0T3Lz"
      },
      "execution_count": null,
      "outputs": []
    }
  ]
}