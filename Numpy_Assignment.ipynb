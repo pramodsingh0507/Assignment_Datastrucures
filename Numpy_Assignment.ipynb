{
  "nbformat": 4,
  "nbformat_minor": 0,
  "metadata": {
    "colab": {
      "provenance": [],
      "authorship_tag": "ABX9TyPEE8Ap1vuFtcXIhSjxWOX+",
      "include_colab_link": true
    },
    "kernelspec": {
      "name": "python3",
      "display_name": "Python 3"
    },
    "language_info": {
      "name": "python"
    }
  },
  "cells": [
    {
      "cell_type": "markdown",
      "metadata": {
        "id": "view-in-github",
        "colab_type": "text"
      },
      "source": [
        "<a href=\"https://colab.research.google.com/github/pramodsingh0507/Assignment_Datastrucures/blob/main/Numpy_Assignment.ipynb\" target=\"_parent\"><img src=\"https://colab.research.google.com/assets/colab-badge.svg\" alt=\"Open In Colab\"/></a>"
      ]
    },
    {
      "cell_type": "code",
      "execution_count": null,
      "metadata": {
        "colab": {
          "base_uri": "https://localhost:8080/"
        },
        "id": "I_-4S0AC-kBN",
        "outputId": "9352554e-b872-4710-d5be-12c1393914b9"
      },
      "outputs": [
        {
          "output_type": "execute_result",
          "data": {
            "text/plain": [
              "3.0"
            ]
          },
          "metadata": {},
          "execution_count": 3
        }
      ],
      "source": [
        "# Theory Question Example Ques:2) Compare and contrast np.mean() and np.average() functions in NumPy. When would you use one over the other?\n",
        "# np.mean()\n",
        "import numpy as np\n",
        "\n",
        "a = np.array([1, 2, 3, 4, 5])\n",
        "mean_value = np.mean(a)\n",
        "mean_value\n"
      ]
    },
    {
      "cell_type": "code",
      "source": [
        "# np.average()\n",
        "import numpy as np\n",
        "\n",
        "a = np.array([1, 2, 3, 4, 5])\n",
        "weights = np.array([1, 1, 1, 1, 1])  # Equal weights, same as np.mean\n",
        "average_value = np.average(a, weights=weights)  # Output: 3.0\n",
        "\n",
        "# With different weights\n",
        "weights = np.array([1, 2, 3, 4, 5])\n",
        "weighted_average_value = np.average(a, weights=weights)  # Output: 4.0\n",
        "\n",
        "print(average_value)\n",
        "print(weighted_average_value)\n",
        "\n"
      ],
      "metadata": {
        "colab": {
          "base_uri": "https://localhost:8080/"
        },
        "id": "SiZzjFnaCtk1",
        "outputId": "d0144957-1b73-421e-912d-1c1ace3a041e"
      },
      "execution_count": null,
      "outputs": [
        {
          "output_type": "stream",
          "name": "stdout",
          "text": [
            "3.0\n",
            "3.6666666666666665\n"
          ]
        }
      ]
    },
    {
      "cell_type": "code",
      "source": [],
      "metadata": {
        "id": "uQ0j9-clC3OP"
      },
      "execution_count": null,
      "outputs": []
    },
    {
      "cell_type": "code",
      "source": [
        "# Ques-3 Describe the methods for reversing a NumPy array along different axes. Provide examples for 1D and 2D arrays."
      ],
      "metadata": {
        "id": "kB0gZLrvDNDk"
      },
      "execution_count": null,
      "outputs": []
    },
    {
      "cell_type": "code",
      "source": [
        "# Reversing a 1D Array\n",
        "# Using Slicing\n",
        "import numpy as np\n",
        "\n",
        "# Create a 1D array\n",
        "arr = np.array([1, 2, 3, 4, 5])\n",
        "\n",
        "# Reverse the array\n",
        "reversed_arr = arr[::-1]\n",
        "\n",
        "print(reversed_arr)\n"
      ],
      "metadata": {
        "colab": {
          "base_uri": "https://localhost:8080/"
        },
        "id": "_QpjjHzRDPFA",
        "outputId": "812fd8fe-c05f-419d-e6ee-9673ce79eef6"
      },
      "execution_count": null,
      "outputs": [
        {
          "output_type": "stream",
          "name": "stdout",
          "text": [
            "[5 4 3 2 1]\n"
          ]
        }
      ]
    },
    {
      "cell_type": "code",
      "source": [
        "# Reversing a 2D Array\n",
        "#Reversing Along Axis 0 (Rows)\n",
        "\n",
        "# Create a 2D array\n",
        "arr = np.array([[1, 2, 3],\n",
        "                [4, 5, 6],\n",
        "                [7, 8, 9]])\n",
        "\n",
        "# Reverse along axis 0 (rows)\n",
        "reversed_axis0 = arr[::-1, :]\n",
        "\n",
        "print(reversed_axis0)\n"
      ],
      "metadata": {
        "colab": {
          "base_uri": "https://localhost:8080/"
        },
        "id": "SLDJhyvmFGRc",
        "outputId": "6aeb3852-6efa-4381-d097-518f148a22ba"
      },
      "execution_count": null,
      "outputs": [
        {
          "output_type": "stream",
          "name": "stdout",
          "text": [
            "[[7 8 9]\n",
            " [4 5 6]\n",
            " [1 2 3]]\n"
          ]
        }
      ]
    },
    {
      "cell_type": "code",
      "source": [
        "# Reversing Along Axis 1 (Columns)\n",
        "# Create a 2D array\n",
        "arr = np.array([[1, 2, 3],\n",
        "                [4, 5, 6],\n",
        "                [7, 8, 9]])\n",
        "\n",
        "# Reverse along axis 1 (columns)\n",
        "reversed_axis1 = arr[:, ::-1]\n",
        "\n",
        "print(reversed_axis1)\n"
      ],
      "metadata": {
        "colab": {
          "base_uri": "https://localhost:8080/"
        },
        "id": "xSKYkntbFUnu",
        "outputId": "d6ed570b-11b6-4ed0-a318-4dd5199b545c"
      },
      "execution_count": null,
      "outputs": [
        {
          "output_type": "stream",
          "name": "stdout",
          "text": [
            "[[3 2 1]\n",
            " [6 5 4]\n",
            " [9 8 7]]\n"
          ]
        }
      ]
    },
    {
      "cell_type": "code",
      "source": [
        "# Reversing Along Both Axes\n",
        "# Create a 2D array\n",
        "arr = np.array([[1, 2, 3],\n",
        "                [4, 5, 6],\n",
        "                [7, 8, 9]])\n",
        "\n",
        "# Reverse along both axes\n",
        "reversed_both = arr[::-1, ::-1]\n",
        "\n",
        "print(reversed_both)\n"
      ],
      "metadata": {
        "colab": {
          "base_uri": "https://localhost:8080/"
        },
        "id": "WysGdjeaFkLl",
        "outputId": "31860dea-31c9-40ac-a312-9f771d03858d"
      },
      "execution_count": null,
      "outputs": [
        {
          "output_type": "stream",
          "name": "stdout",
          "text": [
            "[[9 8 7]\n",
            " [6 5 4]\n",
            " [3 2 1]]\n"
          ]
        }
      ]
    },
    {
      "cell_type": "code",
      "source": [],
      "metadata": {
        "id": "iLxx0KRBFu9u"
      },
      "execution_count": null,
      "outputs": []
    },
    {
      "cell_type": "code",
      "source": [
        "# Ques-4 How can you determine the data type of elements in a NumPy array?\n",
        "# Discuss the importance of data types in memory management and performance.\n",
        "# Create arrays with different data types\n",
        "int_array = np.array([1, 2, 3, 4], dtype=np.int32)\n",
        "float_array = np.array([1.0, 2.0, 3.0, 4.0], dtype=np.float64)\n",
        "complex_array = np.array([1+2j, 3+4j], dtype=np.complex128)\n",
        "\n",
        "# Determine data types\n",
        "print(int_array.dtype)\n",
        "print(float_array.dtype)\n",
        "print(complex_array.dtype)"
      ],
      "metadata": {
        "colab": {
          "base_uri": "https://localhost:8080/"
        },
        "id": "-sxWqBtEH41p",
        "outputId": "59e66640-cf32-414e-c3b9-8be3c7e8e7aa"
      },
      "execution_count": null,
      "outputs": [
        {
          "output_type": "stream",
          "name": "stdout",
          "text": [
            "int32\n",
            "float64\n",
            "complex128\n"
          ]
        }
      ]
    },
    {
      "cell_type": "code",
      "source": [],
      "metadata": {
        "id": "3BQbtCxuH81r"
      },
      "execution_count": null,
      "outputs": []
    },
    {
      "cell_type": "code",
      "source": [],
      "metadata": {
        "id": "Lmx9htEKKmHJ"
      },
      "execution_count": null,
      "outputs": []
    },
    {
      "cell_type": "code",
      "source": [
        "# Ques 5 Define 'ndarray' in NumPy and explain their key features. How do they differ from the standard Python list?.\n",
        "\n",
        "# ndarray\n",
        "# Create a 2D ndarray\n",
        "arr = np.array([[1, 2, 3], [4, 5, 6]])\n",
        "\n",
        "# Perform element-wise addition\n",
        "result = arr + 10\n",
        "print(result)"
      ],
      "metadata": {
        "colab": {
          "base_uri": "https://localhost:8080/"
        },
        "id": "a0arPaoeKmmn",
        "outputId": "3f121012-84fb-4042-e372-0ba665ca01f9"
      },
      "execution_count": null,
      "outputs": [
        {
          "output_type": "stream",
          "name": "stdout",
          "text": [
            "[[11 12 13]\n",
            " [14 15 16]]\n"
          ]
        }
      ]
    },
    {
      "cell_type": "code",
      "source": [
        "# Python List\n",
        "# Create a 2D list\n",
        "lst = [[1, 2, 3], [4, 5, 6]]\n",
        "\n",
        "# Perform element-wise addition (requires nested loops)\n",
        "result = [[x + 10 for x in row] for row in lst]\n",
        "print(result)"
      ],
      "metadata": {
        "colab": {
          "base_uri": "https://localhost:8080/"
        },
        "id": "ilIAZPPjK5T9",
        "outputId": "95f143ec-b6b8-4819-e0ec-f7d8cfb207df"
      },
      "execution_count": null,
      "outputs": [
        {
          "output_type": "stream",
          "name": "stdout",
          "text": [
            "[[11, 12, 13], [14, 15, 16]]\n"
          ]
        }
      ]
    },
    {
      "cell_type": "code",
      "source": [],
      "metadata": {
        "id": "eS6jBsNyLHEr"
      },
      "execution_count": null,
      "outputs": []
    },
    {
      "cell_type": "code",
      "source": [
        "# Ques 7 . Compare vstack() and hstack() functions in NumPy. Provide examples demonstrating their usage and output.\n",
        "\n",
        "# vstack()\n",
        "import numpy as np\n",
        "\n",
        "# Create two 2D arrays\n",
        "array1 = np.array([[1, 2], [3, 4]])\n",
        "array2 = np.array([[5, 6], [7, 8]])\n",
        "\n",
        "# Stack vertically\n",
        "result_vstack = np.vstack((array1, array2))\n",
        "\n",
        "print(\"Result of vstack:\")\n",
        "print(result_vstack)\n"
      ],
      "metadata": {
        "colab": {
          "base_uri": "https://localhost:8080/"
        },
        "id": "jN-loFD6zgnD",
        "outputId": "d832e12d-49bd-4419-d4fe-234b077ecc84"
      },
      "execution_count": 1,
      "outputs": [
        {
          "output_type": "stream",
          "name": "stdout",
          "text": [
            "Result of vstack:\n",
            "[[1 2]\n",
            " [3 4]\n",
            " [5 6]\n",
            " [7 8]]\n"
          ]
        }
      ]
    },
    {
      "cell_type": "code",
      "source": [
        "# hstack()\n",
        "\n",
        "# Create two 2D arrays\n",
        "array1 = np.array([[1, 2], [3, 4]])\n",
        "array2 = np.array([[5], [6]])\n",
        "\n",
        "# Stack horizontally\n",
        "result_hstack = np.hstack((array1, array2))\n",
        "\n",
        "print(\"Result of hstack:\")\n",
        "print(result_hstack)"
      ],
      "metadata": {
        "colab": {
          "base_uri": "https://localhost:8080/"
        },
        "id": "GcGDmVB4zpUq",
        "outputId": "97a9ab36-11f1-4147-b327-11dc29b95252"
      },
      "execution_count": 2,
      "outputs": [
        {
          "output_type": "stream",
          "name": "stdout",
          "text": [
            "Result of hstack:\n",
            "[[1 2 5]\n",
            " [3 4 6]]\n"
          ]
        }
      ]
    },
    {
      "cell_type": "code",
      "source": [],
      "metadata": {
        "id": "SmvxWaihzz7U"
      },
      "execution_count": null,
      "outputs": []
    },
    {
      "cell_type": "code",
      "source": [
        "#  Ques:8) Explain the differences between fliplr() and flipud() methods in NumPy, including their effects on various array dimensions"
      ],
      "metadata": {
        "id": "hxoyKFkz01fw"
      },
      "execution_count": null,
      "outputs": []
    },
    {
      "cell_type": "code",
      "source": [
        "# fliplr()\n",
        "\n",
        "# Create a 2D array\n",
        "array_2d = np.array([[1, 2, 3],\n",
        "                     [4, 5, 6]])\n",
        "\n",
        "# Flip left to right\n",
        "result_fliplr = np.fliplr(array_2d)\n",
        "\n",
        "print(\"Original 2D array:\")\n",
        "print(array_2d)\n",
        "print(\"\\nFlipped left to right:\")\n",
        "print(result_fliplr)"
      ],
      "metadata": {
        "colab": {
          "base_uri": "https://localhost:8080/"
        },
        "id": "_ahlmUfX01vS",
        "outputId": "d7d9b6d4-3afd-4121-99d6-ff6fd5747a3c"
      },
      "execution_count": 4,
      "outputs": [
        {
          "output_type": "stream",
          "name": "stdout",
          "text": [
            "Original 2D array:\n",
            "[[1 2 3]\n",
            " [4 5 6]]\n",
            "\n",
            "Flipped left to right:\n",
            "[[3 2 1]\n",
            " [6 5 4]]\n"
          ]
        }
      ]
    },
    {
      "cell_type": "code",
      "source": [
        "# flipud()\n",
        "\n",
        "# Flip up to down\n",
        "result_flipud = np.flipud(array_2d)\n",
        "\n",
        "print(\"\\nFlipped up to down:\")\n",
        "print(result_flipud)\n",
        "\n"
      ],
      "metadata": {
        "colab": {
          "base_uri": "https://localhost:8080/"
        },
        "id": "u0b3IkxE021O",
        "outputId": "f511aac2-dce2-4e54-c453-5e546e24f4e2"
      },
      "execution_count": 5,
      "outputs": [
        {
          "output_type": "stream",
          "name": "stdout",
          "text": [
            "\n",
            "Flipped up to down:\n",
            "[[4 5 6]\n",
            " [1 2 3]]\n"
          ]
        }
      ]
    },
    {
      "cell_type": "code",
      "source": [],
      "metadata": {
        "id": "Zi8MX6SA1M4P"
      },
      "execution_count": null,
      "outputs": []
    },
    {
      "cell_type": "code",
      "source": [],
      "metadata": {
        "id": "pTQhH2vQ4up0"
      },
      "execution_count": null,
      "outputs": []
    },
    {
      "cell_type": "code",
      "source": [
        "## Practical Questions\n",
        "## Practical Questions\n",
        "\n",
        "# Ques 1  Create a 3x3 NumPy array with random integers between 1 and 100. Then, interchange its rows and columns.\n",
        "\n",
        "# Create a 3x3 array with random integers between 1 and 100\n",
        "array = np.random.randint(1, 101, size=(3, 3))\n",
        "\n",
        "# Print the original array\n",
        "print(\"Original array:\")\n",
        "print(array)\n",
        "\n",
        "# Interchange rows and columns (transpose the array)\n",
        "transposed_array = array.T\n",
        "\n",
        "# Print the transposed array\n",
        "print(\"\\nTransposed array:\")\n",
        "print(transposed_array)\n"
      ],
      "metadata": {
        "colab": {
          "base_uri": "https://localhost:8080/"
        },
        "id": "qe3wgygg4u3W",
        "outputId": "3b10c49a-f1c0-4814-86fd-20931ba99b14"
      },
      "execution_count": 7,
      "outputs": [
        {
          "output_type": "stream",
          "name": "stdout",
          "text": [
            "Original array:\n",
            "[[ 97  57  94]\n",
            " [ 46  14  49]\n",
            " [ 72 100  60]]\n",
            "\n",
            "Transposed array:\n",
            "[[ 97  46  72]\n",
            " [ 57  14 100]\n",
            " [ 94  49  60]]\n"
          ]
        }
      ]
    },
    {
      "cell_type": "code",
      "source": [],
      "metadata": {
        "id": "-EzB5IwL4-BW"
      },
      "execution_count": null,
      "outputs": []
    },
    {
      "cell_type": "code",
      "source": [
        "## Ques-2 Generate a 1D NumPy array with 10 elements. Reshape it into a 2x5 array, then into a 5x2 array\n",
        "\n",
        "# Generate a 1D array with 10 elements\n",
        "array_1d = np.arange(10)  # This creates an array with values from 0 to 9\n",
        "\n",
        "# Print the original 1D array\n",
        "print(\"Original 1D array:\")\n",
        "print(array_1d)\n",
        "\n",
        "# Reshape it into a 2x5 array\n",
        "array_2x5 = array_1d.reshape(2, 5)\n",
        "print(\"\\nReshaped to 2x5 array:\")\n",
        "print(array_2x5)\n",
        "\n",
        "# Reshape it into a 5x2 array\n",
        "array_5x2 = array_1d.reshape(5, 2)\n",
        "print(\"\\nReshaped to 5x2 array:\")\n",
        "print(array_5x2)"
      ],
      "metadata": {
        "colab": {
          "base_uri": "https://localhost:8080/"
        },
        "id": "GLcLlMvh5NgJ",
        "outputId": "536e1a1b-eb78-46e7-e4c6-7a77da849bf7"
      },
      "execution_count": 8,
      "outputs": [
        {
          "output_type": "stream",
          "name": "stdout",
          "text": [
            "Original 1D array:\n",
            "[0 1 2 3 4 5 6 7 8 9]\n",
            "\n",
            "Reshaped to 2x5 array:\n",
            "[[0 1 2 3 4]\n",
            " [5 6 7 8 9]]\n",
            "\n",
            "Reshaped to 5x2 array:\n",
            "[[0 1]\n",
            " [2 3]\n",
            " [4 5]\n",
            " [6 7]\n",
            " [8 9]]\n"
          ]
        }
      ]
    },
    {
      "cell_type": "code",
      "source": [],
      "metadata": {
        "id": "CPYVarkr5qbW"
      },
      "execution_count": null,
      "outputs": []
    },
    {
      "cell_type": "code",
      "source": [
        "# Ques 3  Create a 4x4 NumPy array with random float values. Add a border of zeros around it, resulting in a 6x6 array"
      ],
      "metadata": {
        "id": "mWtsdh5X5qtp"
      },
      "execution_count": null,
      "outputs": []
    },
    {
      "cell_type": "code",
      "source": [
        "# Create a 4x4 array with random float values\n",
        "array_4x4 = np.random.rand(4, 4)\n",
        "\n",
        "# Print the original 4x4 array\n",
        "print(\"Original 4x4 array:\")\n",
        "print(array_4x4)\n",
        "\n",
        "# Add a border of zeros around the array\n",
        "array_with_border = np.pad(array_4x4, pad_width=1, mode='constant', constant_values=0)\n",
        "\n",
        "# Print the resulting 6x6 array\n",
        "print(\"\\n6x6 array with a border of zeros:\")\n",
        "print(array_with_border)"
      ],
      "metadata": {
        "colab": {
          "base_uri": "https://localhost:8080/"
        },
        "id": "zUI5bL8X5dkO",
        "outputId": "44911c9d-99fe-4b73-c380-90bc008ad95e"
      },
      "execution_count": 9,
      "outputs": [
        {
          "output_type": "stream",
          "name": "stdout",
          "text": [
            "Original 4x4 array:\n",
            "[[0.61969856 0.72751133 0.16709291 0.91488381]\n",
            " [0.97812944 0.42511945 0.01712644 0.71840874]\n",
            " [0.86453105 0.92448055 0.68073246 0.17802352]\n",
            " [0.44969453 0.63526445 0.26857994 0.54011849]]\n",
            "\n",
            "6x6 array with a border of zeros:\n",
            "[[0.         0.         0.         0.         0.         0.        ]\n",
            " [0.         0.61969856 0.72751133 0.16709291 0.91488381 0.        ]\n",
            " [0.         0.97812944 0.42511945 0.01712644 0.71840874 0.        ]\n",
            " [0.         0.86453105 0.92448055 0.68073246 0.17802352 0.        ]\n",
            " [0.         0.44969453 0.63526445 0.26857994 0.54011849 0.        ]\n",
            " [0.         0.         0.         0.         0.         0.        ]]\n"
          ]
        }
      ]
    },
    {
      "cell_type": "code",
      "source": [],
      "metadata": {
        "id": "3Zbm7Xvk5_O2"
      },
      "execution_count": null,
      "outputs": []
    },
    {
      "cell_type": "code",
      "source": [],
      "metadata": {
        "id": "DhY0piZn6EYJ"
      },
      "execution_count": null,
      "outputs": []
    },
    {
      "cell_type": "code",
      "source": [
        "# Ques 4 Using NumPy, create an array of integers from 10 to 60 with a step of 5\n",
        "\n",
        "# Create an array of integers from 10 to 60 with a step of 5\n",
        "array = np.arange(10, 61, 5)\n",
        "\n",
        "# Print the resulting array\n",
        "print(\"Array of integers from 10 to 60 with a step of 5:\")\n",
        "print(array)"
      ],
      "metadata": {
        "colab": {
          "base_uri": "https://localhost:8080/"
        },
        "id": "PxBYQvJ_6E2n",
        "outputId": "dc9085b7-6f44-4c84-8c86-43d7ac6cbbe4"
      },
      "execution_count": 12,
      "outputs": [
        {
          "output_type": "stream",
          "name": "stdout",
          "text": [
            "Array of integers from 10 to 60 with a step of 5:\n",
            "[10 15 20 25 30 35 40 45 50 55 60]\n"
          ]
        }
      ]
    },
    {
      "cell_type": "code",
      "source": [],
      "metadata": {
        "id": "qXUam2pP6TzO"
      },
      "execution_count": null,
      "outputs": []
    },
    {
      "cell_type": "code",
      "source": [
        "# Ques 5  Create a NumPy array of strings ['python', 'numpy', 'pandas']. Apply different case transformations\n",
        "# (uppercase, lowercase, title case, etc.) to each element.\n",
        "\n",
        "import numpy as np\n",
        "\n",
        "# Create a NumPy array of strings\n",
        "string_array = np.array(['python', 'numpy', 'pandas'])\n",
        "\n",
        "# Apply different case transformations\n",
        "uppercase_array = np.char.upper(string_array)\n",
        "lowercase_array = np.char.lower(string_array)\n",
        "titlecase_array = np.char.title(string_array)\n",
        "capitalize_array = np.char.capitalize(string_array)\n",
        "\n",
        "# Print the results\n",
        "print(\"Original array:\")\n",
        "print(string_array)\n",
        "\n",
        "print(\"\\nUppercase:\")\n",
        "print(uppercase_array)\n",
        "\n",
        "print(\"\\nLowercase:\")\n",
        "print(lowercase_array)\n",
        "\n",
        "print(\"\\nTitle Case:\")\n",
        "print(titlecase_array)\n",
        "\n",
        "print(\"\\nCapitalized:\")\n",
        "print(capitalize_array)\n"
      ],
      "metadata": {
        "colab": {
          "base_uri": "https://localhost:8080/"
        },
        "id": "sqqsARL76YSX",
        "outputId": "b6a9eb68-a4c0-4d78-a1eb-2f1de13efe9a"
      },
      "execution_count": 13,
      "outputs": [
        {
          "output_type": "stream",
          "name": "stdout",
          "text": [
            "Original array:\n",
            "['python' 'numpy' 'pandas']\n",
            "\n",
            "Uppercase:\n",
            "['PYTHON' 'NUMPY' 'PANDAS']\n",
            "\n",
            "Lowercase:\n",
            "['python' 'numpy' 'pandas']\n",
            "\n",
            "Title Case:\n",
            "['Python' 'Numpy' 'Pandas']\n",
            "\n",
            "Capitalized:\n",
            "['Python' 'Numpy' 'Pandas']\n"
          ]
        }
      ]
    },
    {
      "cell_type": "code",
      "source": [
        "\n"
      ],
      "metadata": {
        "id": "ZtQ4dN986sY7"
      },
      "execution_count": 13,
      "outputs": []
    },
    {
      "cell_type": "code",
      "source": [],
      "metadata": {
        "id": "dqfEGkmo6wFx"
      },
      "execution_count": null,
      "outputs": []
    },
    {
      "cell_type": "code",
      "source": [
        "# Ques 6  Generate a NumPy array of words. Insert a space between each character of every word in the array.\n",
        "\n",
        "import numpy as np\n",
        "\n",
        "# Create a NumPy array of words\n",
        "words_array = np.array(['python', 'numpy', 'pandas'])\n",
        "\n",
        "# Insert a space between each character of every word\n",
        "spaced_words_array = np.char.join(' ', words_array)\n",
        "\n",
        "# Print the original and transformed arrays\n",
        "print(\"Original array:\")\n",
        "print(words_array)\n",
        "\n",
        "print(\"\\nArray with spaces between characters:\")\n",
        "print(spaced_words_array)\n",
        "\n"
      ],
      "metadata": {
        "colab": {
          "base_uri": "https://localhost:8080/"
        },
        "id": "5RWVcQQP6wbe",
        "outputId": "bfe3867e-0694-451a-f2b3-321ecbc21cbe"
      },
      "execution_count": 14,
      "outputs": [
        {
          "output_type": "stream",
          "name": "stdout",
          "text": [
            "Original array:\n",
            "['python' 'numpy' 'pandas']\n",
            "\n",
            "Array with spaces between characters:\n",
            "['p y t h o n' 'n u m p y' 'p a n d a s']\n"
          ]
        }
      ]
    },
    {
      "cell_type": "code",
      "source": [],
      "metadata": {
        "id": "u0VE2TRS7Di6"
      },
      "execution_count": null,
      "outputs": []
    },
    {
      "cell_type": "code",
      "source": [
        "# Ques 7 Create two 2D NumPy arrays and perform element-wise addition, subtraction, multiplication, and division.\n",
        "\n",
        "import numpy as np\n",
        "\n",
        "# Create two 2D NumPy arrays\n",
        "array1 = np.array([[1, 2, 3],\n",
        "                   [4, 5, 6]])\n",
        "\n",
        "array2 = np.array([[7, 8, 9],\n",
        "                   [10, 11, 12]])\n",
        "\n",
        "# Element-wise addition\n",
        "addition = array1 + array2\n",
        "print(\"Addition:\\n\", addition)\n",
        "\n",
        "# Element-wise subtraction\n",
        "subtraction = array1 - array2\n",
        "print(\"\\nSubtraction:\\n\", subtraction)\n",
        "\n",
        "# Element-wise multiplication\n",
        "multiplication = array1 * array2\n",
        "print(\"\\nMultiplication:\\n\", multiplication)\n",
        "\n",
        "# Element-wise division\n",
        "division = array1 / array2\n",
        "print(\"\\nDivision:\\n\", division)\n",
        "\n",
        "\n",
        "\n"
      ],
      "metadata": {
        "colab": {
          "base_uri": "https://localhost:8080/"
        },
        "id": "S38EVbUC7Ucc",
        "outputId": "3f90c717-cbdd-4759-bd30-0ba0541f0e06"
      },
      "execution_count": 15,
      "outputs": [
        {
          "output_type": "stream",
          "name": "stdout",
          "text": [
            "Addition:\n",
            " [[ 8 10 12]\n",
            " [14 16 18]]\n",
            "\n",
            "Subtraction:\n",
            " [[-6 -6 -6]\n",
            " [-6 -6 -6]]\n",
            "\n",
            "Multiplication:\n",
            " [[ 7 16 27]\n",
            " [40 55 72]]\n",
            "\n",
            "Division:\n",
            " [[0.14285714 0.25       0.33333333]\n",
            " [0.4        0.45454545 0.5       ]]\n"
          ]
        }
      ]
    },
    {
      "cell_type": "code",
      "source": [],
      "metadata": {
        "id": "KPeMfs8O7Zw6"
      },
      "execution_count": null,
      "outputs": []
    },
    {
      "cell_type": "code",
      "source": [],
      "metadata": {
        "id": "Z7VJE6Ms7dx_"
      },
      "execution_count": null,
      "outputs": []
    },
    {
      "cell_type": "code",
      "source": [
        "# Ques 8 Use NumPy to create a 5x5 identity matrix, then extract its diagonal elements\n",
        "\n",
        "import numpy as np\n",
        "\n",
        "# Create a 5x5 identity matrix\n",
        "identity_matrix = np.eye(5)\n",
        "\n",
        "# Extract the diagonal elements\n",
        "diagonal_elements = np.diag(identity_matrix)\n",
        "\n",
        "# Display the results\n",
        "print(\"Identity Matrix:\\n\", identity_matrix)\n",
        "print(\"\\nDiagonal Elements:\", diagonal_elements)\n"
      ],
      "metadata": {
        "colab": {
          "base_uri": "https://localhost:8080/"
        },
        "id": "CetPNDbi7eM5",
        "outputId": "970ab373-518b-4107-d55c-5feee9abb9b8"
      },
      "execution_count": 16,
      "outputs": [
        {
          "output_type": "stream",
          "name": "stdout",
          "text": [
            "Identity Matrix:\n",
            " [[1. 0. 0. 0. 0.]\n",
            " [0. 1. 0. 0. 0.]\n",
            " [0. 0. 1. 0. 0.]\n",
            " [0. 0. 0. 1. 0.]\n",
            " [0. 0. 0. 0. 1.]]\n",
            "\n",
            "Diagonal Elements: [1. 1. 1. 1. 1.]\n"
          ]
        }
      ]
    },
    {
      "cell_type": "code",
      "source": [],
      "metadata": {
        "id": "D5DBxtLt7sxS"
      },
      "execution_count": null,
      "outputs": []
    },
    {
      "cell_type": "code",
      "source": [
        "# Ques 9 Generate a NumPy array of 100 random integers between 0 and 1000. Find and display all prime numbers in this array\n",
        "\n",
        "import numpy as np\n",
        "\n",
        "# Generate an array of 100 random integers between 0 and 1000\n",
        "random_integers = np.random.randint(0, 1000, size=100)\n",
        "\n",
        "# Function to check if a number is prime\n",
        "def is_prime(n):\n",
        "    if n <= 1:\n",
        "        return False\n",
        "    for i in range(2, int(n**0.5) + 1):\n",
        "        if n % i == 0:\n",
        "            return False\n",
        "    return True\n",
        "\n",
        "# Find all prime numbers in the array\n",
        "prime_numbers = [num for num in random_integers if is_prime(num)]\n",
        "\n",
        "# Display the results\n",
        "print(\"Random Integers:\\n\", random_integers)\n",
        "print(\"\\nPrime Numbers:\", prime_numbers)\n"
      ],
      "metadata": {
        "colab": {
          "base_uri": "https://localhost:8080/"
        },
        "id": "S0h0gzbJ7tPb",
        "outputId": "249d7288-2f3f-469b-be6b-f649b36413f5"
      },
      "execution_count": 18,
      "outputs": [
        {
          "output_type": "stream",
          "name": "stdout",
          "text": [
            "Random Integers:\n",
            " [215 731 104 939 352 259 443 844 827 893 626 201 574 394 995 419 104 400\n",
            " 269 372 197 957 448 665 473 293 348 715 419  58 123 193 446 220 554 917\n",
            " 813 675  20  24 587 487 279 371  92 146 580 464 157 137 586 976 100 584\n",
            " 260 647 202 289 514 107 547  58 408 919 597 985 879 697 757 526 539 224\n",
            " 330 999 193 772 649 433  15 777 311 276 766  96 187 311 163 397 624 229\n",
            " 940  42 823 395 956 466 345 788 929 853]\n",
            "\n",
            "Prime Numbers: [443, 827, 419, 269, 197, 293, 419, 193, 587, 487, 157, 137, 647, 107, 547, 919, 757, 193, 433, 311, 311, 163, 397, 229, 823, 929, 853]\n"
          ]
        }
      ]
    },
    {
      "cell_type": "code",
      "source": [],
      "metadata": {
        "id": "WlFrUZD17obO"
      },
      "execution_count": null,
      "outputs": []
    },
    {
      "cell_type": "code",
      "source": [],
      "metadata": {
        "id": "_Zv1z4_U8D6F"
      },
      "execution_count": null,
      "outputs": []
    },
    {
      "cell_type": "code",
      "source": [
        "# Ques 10  Create a NumPy array representing daily temperatures for a month. Calculate and display the weekly averages\n",
        "\n",
        "import numpy as np\n",
        "\n",
        "# Create a NumPy array representing daily temperatures for a month\n",
        "# Here we are using random temperatures between 15 and 35 degrees Celsius\n",
        "daily_temperatures = np.random.randint(15, 36, size=28)\n",
        "\n",
        "# Reshape the array to represent weeks (4 weeks)\n",
        "weekly_temperatures = daily_temperatures.reshape(4, 7)\n",
        "\n",
        "# Calculate the weekly averages\n",
        "weekly_averages = np.mean(weekly_temperatures, axis=1)\n",
        "\n",
        "# Display the results\n",
        "print(\"Daily Temperatures:\\n\", daily_temperatures)\n",
        "print(\"\\nWeekly Averages:\", weekly_averages)\n",
        "\n",
        "\n"
      ],
      "metadata": {
        "colab": {
          "base_uri": "https://localhost:8080/"
        },
        "id": "nRm5RFvM8EWN",
        "outputId": "3ce28e29-80ba-46a3-a2f3-56b5c6f93937"
      },
      "execution_count": 22,
      "outputs": [
        {
          "output_type": "stream",
          "name": "stdout",
          "text": [
            "Daily Temperatures:\n",
            " [33 17 25 18 16 34 32 30 34 17 35 34 35 25 26 26 26 30 32 35 29 33 34 32\n",
            " 30 20 16 34]\n",
            "\n",
            "Weekly Averages: [25.         30.         29.14285714 28.42857143]\n"
          ]
        }
      ]
    },
    {
      "cell_type": "code",
      "source": [],
      "metadata": {
        "id": "9-7ZZwck8POw"
      },
      "execution_count": null,
      "outputs": []
    }
  ]
}
