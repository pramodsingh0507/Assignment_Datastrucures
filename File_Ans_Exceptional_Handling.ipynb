{
  "nbformat": 4,
  "nbformat_minor": 0,
  "metadata": {
    "colab": {
      "provenance": [],
      "authorship_tag": "ABX9TyNQe+UVkNY0Lu9y1BM51r27",
      "include_colab_link": true
    },
    "kernelspec": {
      "name": "python3",
      "display_name": "Python 3"
    },
    "language_info": {
      "name": "python"
    }
  },
  "cells": [
    {
      "cell_type": "markdown",
      "metadata": {
        "id": "view-in-github",
        "colab_type": "text"
      },
      "source": [
        "<a href=\"https://colab.research.google.com/github/pramodsingh0507/Assignment_Datastrucures/blob/main/File_Ans_Exceptional_Handling.ipynb\" target=\"_parent\"><img src=\"https://colab.research.google.com/assets/colab-badge.svg\" alt=\"Open In Colab\"/></a>"
      ]
    },
    {
      "cell_type": "code",
      "execution_count": 1,
      "metadata": {
        "colab": {
          "base_uri": "https://localhost:8080/"
        },
        "id": "-CmXZ9REjz_4",
        "outputId": "9aba8a64-d316-4282-a694-07bb41578a54"
      },
      "outputs": [
        {
          "output_type": "stream",
          "name": "stdout",
          "text": [
            "Added: 0, List: [0]\n",
            "Removed: 0, List: []\n",
            "List is empty, nothing to remove.\n",
            "Added: 1, List: [1]\n",
            "Added: 2, List: [1, 2]\n",
            "Removed: 1, List: [2]\n",
            "Added: 3, List: [2, 3]\n",
            "Removed: 2, List: [3]\n",
            "Added: 4, List: [3, 4]\n",
            "Removed: 3, List: [4]\n",
            "Removed: 4, List: []\n",
            "Added: 5, List: [5]\n",
            "Removed: 5, List: []\n",
            "Added: 6, List: [6]\n",
            "Added: 7, List: [6, 7]\n",
            "Removed: 6, List: [7]\n",
            "Added: 8, List: [7, 8]\n",
            "Added: 9, List: [7, 8, 9]\n",
            "Removed: 7, List: [8, 9]\n",
            "Removed: 8, List: [9]\n",
            "Final List: [9]\n"
          ]
        }
      ],
      "source": [
        "# Ques 4\n",
        "\n",
        "import threading\n",
        "import time\n",
        "import random\n",
        "\n",
        "# Shared resource\n",
        "shared_list = []\n",
        "lock = threading.Lock()\n",
        "\n",
        "def add_numbers(num_additions):\n",
        "    for i in range(num_additions):\n",
        "        time.sleep(random.uniform(0.1, 0.5))  # Simulate work\n",
        "        with lock:\n",
        "            shared_list.append(i)\n",
        "            print(f\"Added: {i}, List: {shared_list}\")\n",
        "\n",
        "def remove_numbers(num_removals):\n",
        "    for _ in range(num_removals):\n",
        "        time.sleep(random.uniform(0.1, 0.5))  # Simulate work\n",
        "        with lock:\n",
        "            if shared_list:\n",
        "                removed = shared_list.pop(0)\n",
        "                print(f\"Removed: {removed}, List: {shared_list}\")\n",
        "            else:\n",
        "                print(\"List is empty, nothing to remove.\")\n",
        "\n",
        "if __name__ == \"__main__\":\n",
        "    num_additions = 10\n",
        "    num_removals = 10\n",
        "\n",
        "    # Create threads\n",
        "    add_thread = threading.Thread(target=add_numbers, args=(num_additions,))\n",
        "    remove_thread = threading.Thread(target=remove_numbers, args=(num_removals,))\n",
        "\n",
        "    # Start threads\n",
        "    add_thread.start()\n",
        "    remove_thread.start()\n",
        "\n",
        "    # Wait for threads to finish\n",
        "    add_thread.join()\n",
        "    remove_thread.join()\n",
        "\n",
        "    print(\"Final List:\", shared_list)\n"
      ]
    },
    {
      "cell_type": "code",
      "source": [],
      "metadata": {
        "id": "wOMVNHqXlZZv"
      },
      "execution_count": null,
      "outputs": []
    },
    {
      "cell_type": "code",
      "source": [],
      "metadata": {
        "id": "IVA9EuBDmqlc"
      },
      "execution_count": null,
      "outputs": []
    },
    {
      "cell_type": "code",
      "source": [],
      "metadata": {
        "id": "4F7zbtp8mqn8"
      },
      "execution_count": null,
      "outputs": []
    },
    {
      "cell_type": "code",
      "source": [
        "# Ques 7\n",
        "\n",
        "import concurrent.futures\n",
        "import math\n",
        "\n",
        "def calculate_factorial(n):\n",
        "    \"\"\"Function to calculate factorial of a number.\"\"\"\n",
        "    return math.factorial(n)\n",
        "\n",
        "if __name__ == \"__main__\":\n",
        "    # List of numbers to calculate factorial for\n",
        "    numbers = list(range(1, 11))\n",
        "\n",
        "    # Using ThreadPoolExecutor to manage the threads\n",
        "    with concurrent.futures.ThreadPoolExecutor() as executor:\n",
        "        # Map the calculate_factorial function to the numbers\n",
        "        results = list(executor.map(calculate_factorial, numbers))\n",
        "\n",
        "    # Print the results\n",
        "    for number, factorial in zip(numbers, results):\n",
        "        print(f\"Factorial of {number} is {factorial}\")\n"
      ],
      "metadata": {
        "colab": {
          "base_uri": "https://localhost:8080/"
        },
        "id": "RTMlzKIZmqrc",
        "outputId": "23db1617-5561-43fc-cfff-6fc784cc59c3"
      },
      "execution_count": 2,
      "outputs": [
        {
          "output_type": "stream",
          "name": "stdout",
          "text": [
            "Factorial of 1 is 1\n",
            "Factorial of 2 is 2\n",
            "Factorial of 3 is 6\n",
            "Factorial of 4 is 24\n",
            "Factorial of 5 is 120\n",
            "Factorial of 6 is 720\n",
            "Factorial of 7 is 5040\n",
            "Factorial of 8 is 40320\n",
            "Factorial of 9 is 362880\n",
            "Factorial of 10 is 3628800\n"
          ]
        }
      ]
    },
    {
      "cell_type": "code",
      "source": [],
      "metadata": {
        "id": "ZZPr0Wf_mr5S"
      },
      "execution_count": null,
      "outputs": []
    },
    {
      "cell_type": "code",
      "source": [],
      "metadata": {
        "id": "DdI30RPTm0RU"
      },
      "execution_count": null,
      "outputs": []
    },
    {
      "cell_type": "code",
      "source": [
        "# Ques 8\n",
        "\n",
        "import multiprocessing\n",
        "import time\n",
        "\n",
        "def square(n):\n",
        "    \"\"\"Function to compute the square of a number.\"\"\"\n",
        "    return n * n\n",
        "\n",
        "def compute_squares(pool_size):\n",
        "    \"\"\"Function to compute squares using a specified pool size.\"\"\"\n",
        "    numbers = list(range(1, 11))\n",
        "\n",
        "    # Start the timer\n",
        "    start_time = time.time()\n",
        "\n",
        "    with multiprocessing.Pool(processes=pool_size) as pool:\n",
        "        results = pool.map(square, numbers)\n",
        "\n",
        "    end_time = time.time()\n",
        "    time_taken = end_time - start_time\n",
        "\n",
        "    return results, time_taken\n",
        "\n",
        "if __name__ == \"__main__\":\n",
        "    pool_sizes = [2, 4, 8]\n",
        "\n",
        "    for size in pool_sizes:\n",
        "        results, duration = compute_squares(size)\n",
        "        print(f\"Pool Size: {size}, Results: {results}, Time Taken: {duration:.4f} seconds\")\n"
      ],
      "metadata": {
        "colab": {
          "base_uri": "https://localhost:8080/"
        },
        "id": "7TuomEFbm0Uo",
        "outputId": "b24ed1e2-9604-4b20-c909-015caf9520c9"
      },
      "execution_count": 3,
      "outputs": [
        {
          "output_type": "stream",
          "name": "stdout",
          "text": [
            "Pool Size: 2, Results: [1, 4, 9, 16, 25, 36, 49, 64, 81, 100], Time Taken: 0.1124 seconds\n",
            "Pool Size: 4, Results: [1, 4, 9, 16, 25, 36, 49, 64, 81, 100], Time Taken: 0.1073 seconds\n",
            "Pool Size: 8, Results: [1, 4, 9, 16, 25, 36, 49, 64, 81, 100], Time Taken: 0.1690 seconds\n"
          ]
        }
      ]
    },
    {
      "cell_type": "code",
      "source": [],
      "metadata": {
        "id": "NrHiHXtmm3Uo"
      },
      "execution_count": null,
      "outputs": []
    }
  ]
}